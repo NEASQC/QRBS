{
 "cells": [
  {
   "cell_type": "markdown",
   "id": "1d22b37c",
   "metadata": {},
   "source": [
    "# QRBS for dummies"
   ]
  },
  {
   "cell_type": "markdown",
   "id": "8d04d85a",
   "metadata": {},
   "source": [
    "\n",
    "The Quantum Rule-Based System (**QRBS**) NEASQC software library allows their users to implement, transparently, inference of a rule system where the facts are affected by imprecision and the rules have a degree of uncertainty using quantum circuits and eventually a quantum device. \n",
    "\n",
    "Classically there are several model implementations for dealing with uncertainty and imprecision. The **QRBS** allows the implementation of the three following models:\n",
    "\n",
    "1. **Certainty factors**. Proposed by Shortliffe and Buchanan in: *Shortliffe, E. H., & Buchanan, B. G. (1975). A model of inexact reasoning in medicine. Mathematical Biosciences,23(3), 351–379*\n",
    "2. **Fuzzy logic**: introduced by Loft A. Zadeh in: *Zadeh, L. A. (1965). Fuzzy sets. Information and Control, 8(3), 338–353*\n",
    "3. **Bayesian networks**: following the work from:  *Borujeni, S. E., Nannapaneni, S., Nguyen, N. H., Behrman, E. C., & Steck, J. E. (2021). Quantum circuit representation of Bayesian networks. Expert Systems with Applications, 176, 114768*\n",
    "\n",
    "In this notebook we explain how to use **QRBS** to build easy and simple rule systems, implement the associated quantum circuits and execute in a Quantum Process Unit from Eviden myQLM.\n"
   ]
  },
  {
   "cell_type": "code",
   "execution_count": null,
   "id": "ff30b211",
   "metadata": {},
   "outputs": [],
   "source": [
    "import sys\n",
    "sys.path.append(\"../../\")"
   ]
  },
  {
   "cell_type": "markdown",
   "id": "5f868683",
   "metadata": {},
   "source": [
    "## 1. Facts, rules and islands."
   ]
  },
  {
   "cell_type": "markdown",
   "id": "56ffad81",
   "metadata": {},
   "source": [
    "The main ingredients of a rule system are:\n",
    "\n",
    "* facts: the basic elements of an RBS. They are the smallest unit of information of the RBS.\n",
    "* rules: relationships between facts (they are like if-then statements in procedural languages). A rule has 2 parts:\n",
    "    * *left-hand side*: this is the premise of the rule.\n",
    "    * *right-hand side*: this is the conclusion of the rule\n",
    "* inference engine: the engine that controls the whole process of applying the complete set of rules of an RBS.\n",
    "\n",
    "Examples: \n",
    "1. The following categorical sentence can be interpreted as an RBS: *If rains I stay at home*. \n",
    "    * facts: Fact(rain) and Fact(home).\n",
    "    * rule: rule: Rule(Fact(rain) is True, Fact(home) is True).\n",
    "2. The rules can be more sophisticated: *If rains and I am tired I stay at home*:\n",
    "    * facts: Fact(rain), Fact(tired) and Fact(home).\n",
    "    * rule: rule: Rule((Fact(rain) is True) and (Fact(tired) is True), Fact(home) is True).    \n",
    "    \n",
    "    \n",
    "The main workflow for defining a **RBS** using **QRBS** are:\n",
    "1. Instantiate the **QRBS** class\n",
    "2. Define the facts of the system\n",
    "3. Define the rules of the system\n",
    "4. Define the knowledge island of the system.\n",
    "\n",
    "We are going to develop the first **QRBS** system using the categorical rule: *If it rains I stay at home*"
   ]
  },
  {
   "cell_type": "markdown",
   "id": "eb044e2a",
   "metadata": {},
   "source": [
    "### 1.1 Instantiate the **QRBS** class\n",
    "\n",
    "For creating a quantum rule-based system using **QRBS** we are going to use the class *QRBS* that allows us to define the complete rule system. This class is inside the module: **neasqc_qrbs.qrbs**"
   ]
  },
  {
   "cell_type": "code",
   "execution_count": null,
   "id": "d24a8bd3",
   "metadata": {},
   "outputs": [],
   "source": [
    "from neasqc_qrbs.qrbs import QRBS"
   ]
  },
  {
   "cell_type": "code",
   "execution_count": null,
   "id": "3337118e",
   "metadata": {},
   "outputs": [],
   "source": [
    "qrbs =  QRBS()"
   ]
  },
  {
   "cell_type": "markdown",
   "id": "a9c6a355",
   "metadata": {},
   "source": [
    "### 1.2. Define the facts of the system"
   ]
  },
  {
   "cell_type": "markdown",
   "id": "ad1b567c",
   "metadata": {},
   "source": [
    "Once the **QRBS** is created we need to create the different facts of the system. In the **QRBS** a fact is a Python object that can be created using the **assert_fact** method of the **QRBS** class. To this method, the following inputs should be provided:\n",
    "\n",
    "* An attribute: a string for identifying the fact\n",
    "* A value that the attribute takes (it can be a dummy value).\n",
    "* A precision: **For the moment we are going to think of the precision as a categorical variable** if 0 the fact is false and 1 when the fact is true. By default, the precision is always set to 0.\n",
    "\n",
    "For the categorical rule: *If rains I stay at home* there are 2 facts: rain and home. \n"
   ]
  },
  {
   "cell_type": "code",
   "execution_count": null,
   "id": "3b3c5166",
   "metadata": {},
   "outputs": [],
   "source": [
    "#rain fact\n",
    "rain = qrbs.assert_fact(\"rain\", \"rain\")\n",
    "#home fact\n",
    "home = qrbs.assert_fact(\"home\", \"home\")"
   ]
  },
  {
   "cell_type": "markdown",
   "id": "9dfe9d65",
   "metadata": {},
   "source": [
    "By default both facts will be initialized to a 0 precision (both facts are false)"
   ]
  },
  {
   "cell_type": "code",
   "execution_count": null,
   "id": "1873777a",
   "metadata": {},
   "outputs": [],
   "source": [
    "print(\"Precision of rain fact is: \", rain.precision)\n",
    "print(\"Precision of home fact is: \", home.precision)"
   ]
  },
  {
   "cell_type": "markdown",
   "id": "29767501",
   "metadata": {},
   "source": [
    "### 1.3. Define the rules of the system\n",
    "\n",
    "The rules in the **QRBS** are classes that should be created using the method *assert_rule*. A rule has two parts:\n",
    "\n",
    "* *left-hand side* of a rule is the *if* part that consists of a pattern that matches facts.\n",
    "* *right hand side* of a rule is the *then* part. This part is set in function of the evaluation of the *left-hand side*.\n",
    "\n",
    "For the categorical rule: *If rain I stay at home* there are 2 facts: the rule is when *rain*==True then set *home* to True.\n",
    "\n",
    "In the **QRBS** the *assert_rule* method needs as input the *left-hand side* and *right-hand side* expressions. Additionally when the rule is created one main attribute is the *certainty*. **For the moment we assume that this value is boolean: if 0 the rule does not apply and if 1 the rule does not apply**. By default the *certainty* is fixed to 0. "
   ]
  },
  {
   "cell_type": "code",
   "execution_count": null,
   "id": "44f1c9fa",
   "metadata": {},
   "outputs": [],
   "source": [
    "rule = qrbs.assert_rule(rain, home)"
   ]
  },
  {
   "cell_type": "code",
   "execution_count": null,
   "id": "6f5c5c11",
   "metadata": {},
   "outputs": [],
   "source": [
    "print(\"The certainty of the rule is: \", rule.certainty)"
   ]
  },
  {
   "cell_type": "code",
   "execution_count": null,
   "id": "d91bba45",
   "metadata": {},
   "outputs": [],
   "source": [
    "# For firing the rule we set certainty should be set to 1\n",
    "rule.certainty = 1.0"
   ]
  },
  {
   "cell_type": "markdown",
   "id": "872b0731",
   "metadata": {},
   "source": [
    "### 1.4. Define the knowledge island of the system.\n",
    "\n",
    "Finally, we need to group the complete set of rules in *knowledge islands*. For this, we use the method *assert_island* that takes as input a list with the complete rules mandatory. The idea of *knowledge islands* is to chain a set of rules that leads to a final conclusion.  So you can create different *islands* for the same **RBS**."
   ]
  },
  {
   "cell_type": "code",
   "execution_count": null,
   "id": "25019bc6",
   "metadata": {},
   "outputs": [],
   "source": [
    "island = qrbs.assert_island([rule])"
   ]
  },
  {
   "cell_type": "markdown",
   "id": "d24ba52c",
   "metadata": {},
   "source": [
    "With this we have defined completely the **RBS** system now we need to execute it."
   ]
  },
  {
   "cell_type": "markdown",
   "id": "242527ba",
   "metadata": {},
   "source": [
    "## 2. Builder and Execution of the QRBS\n",
    "\n",
    "Now we can execute the system to obtain the result for doing this we need to use a *Quantum Process Unit* (**QPU**). This **QPU** will construct the quantum circuit and execute it using a **Eviden myQLM** qpu.\n",
    "\n",
    "In the **neasqc_qrbs.qrbs** module the **MyQlmQPU** class allows to users  execute the **QRBS** in an easy way using.\n"
   ]
  },
  {
   "cell_type": "code",
   "execution_count": null,
   "id": "fc44c2de",
   "metadata": {},
   "outputs": [],
   "source": [
    "from neasqc_qrbs.qrbs import MyQlmQPU"
   ]
  },
  {
   "cell_type": "code",
   "execution_count": null,
   "id": "bd8520ed",
   "metadata": {},
   "outputs": [],
   "source": [
    "my_qlm_qpu = MyQlmQPU()"
   ]
  },
  {
   "cell_type": "markdown",
   "id": "28bdb2c6",
   "metadata": {},
   "source": [
    "We are going to fix the *rain* fact to True (1.0) and when the complete **QRBS** is executed the *home* fact should be set to True (1.0)"
   ]
  },
  {
   "cell_type": "code",
   "execution_count": null,
   "id": "d6cf91da",
   "metadata": {},
   "outputs": [],
   "source": [
    "# Set the rain fact to 1\n",
    "print(\"Precision of rain fact is: \", rain.precision)\n",
    "rain.precision = 1.0\n",
    "print(\"Precision of rain fact is: \", rain.precision)\n",
    "print(\"Precision of home fact is: \", home.precision)"
   ]
  },
  {
   "cell_type": "code",
   "execution_count": null,
   "id": "946d7f32",
   "metadata": {},
   "outputs": [],
   "source": [
    "my_qlm_qpu.execute(qrbs)"
   ]
  },
  {
   "cell_type": "code",
   "execution_count": null,
   "id": "2f0d7196",
   "metadata": {},
   "outputs": [],
   "source": [
    "print(\"Precision of home fact is: \", home.precision)"
   ]
  },
  {
   "cell_type": "markdown",
   "id": "229e4de6",
   "metadata": {},
   "source": [
    "The **MyQlmQPU** only allows the user to use the **PyLinalg** algebra simulator (https://myqlm.github.io/04_api_reference/module_qat/%3Amyqlm%3Amodule_pylinalg/module_simulator.html) and only executes the quantum circuit for 1024 shots. \n",
    " "
   ]
  },
  {
   "cell_type": "markdown",
   "id": "4c4e18c3",
   "metadata": {},
   "source": [
    "### 2.1 The select_qpu function and the SelectableQPU class.\n",
    "\n",
    "In order to give to the user more versatility for executing their **QRBS** systems we have developed the **select_qpu** function and the **SelectableQPU** class:\n",
    "\n",
    "\n",
    "\n",
    "* **select_qpu** function: under the module **misc.qpu.select_qpu**. This function allows to the user select different **Eviden quantum proccess units (QPUs)** for solving the **QRBS**. \n",
    "*  SelectableQPU class: from the module **misc/selectable_qpu**. This class allows to solve a **QRBS** like the **MyQlmQPU** but you can provide a qpu and a different number of shots."
   ]
  },
  {
   "cell_type": "markdown",
   "id": "5ff5de77",
   "metadata": {},
   "source": [
    "### select_qpu function\n",
    "\n",
    "\n",
    "The input of this function is a Python dictionary that allows to the user configure easily a **QPU**. The minimum Python dictionary for configuring an ideal **QPU** is presented in the following cell. In this case, the user only has to provide a value to the *qpu_type* key. Depending on the type of simulator desired the following strings should be provided:\n",
    "\n",
    "* *qlmass_linalg*: to use the **LinAlg Quantum Learning Machine (QLM)** algebra simulator. In this case, the computation will be sent to the **QLM** (https://atos.net/en/solutions/quantum-learning-machine) by using the  Qaptiva QLM as a Service.\n",
    "* *qlmass_mps*: to use **MPS QLM** simulator. In this case, the computation will be sent to the **QLM** by using the  Qaptiva QLM as a Service.\n",
    "* *python*: to use the PyLinalg algebra simulator.\n",
    "* *c*: to use the CLinalg alegbra simulator (https://myqlm.github.io/04_api_reference/module_qat/module_qpus/%3Amyqlm%3Aclinalg.html).\n",
    "* *linalg*: to use the **LinAlg QLM**. In this case, the user should be inside a **EVIDEN QLM**\n",
    "* *mps*: to use the **MPS QLM** simulator. In this case, the user should be inside a **EVIDEN QLM**\n",
    "\n"
   ]
  },
  {
   "cell_type": "code",
   "execution_count": null,
   "id": "d4fdc6da",
   "metadata": {},
   "outputs": [],
   "source": [
    "# myQLM qpus\n",
    "from qpu.select_qpu import select_qpu"
   ]
  },
  {
   "cell_type": "code",
   "execution_count": null,
   "id": "10bffc7f",
   "metadata": {},
   "outputs": [],
   "source": [
    "# List with the strings that should be provided for an ideal QPU\n",
    "ideal_qpus = [\"c\", \"python\", \"linalg\", \"mps\", \"qlmass_linalg\", \"qlmass_mps\"]\n",
    "qpu_config_c = {\n",
    "    \"qpu_type\": ideal_qpus[0], \n",
    "}\n",
    "qpu_c = select_qpu(qpu_config_c)\n",
    "qpu_config_python = {\n",
    "    \"qpu_type\": ideal_qpus[1], \n",
    "}\n",
    "qpu_python = select_qpu(qpu_config_python)"
   ]
  },
  {
   "cell_type": "markdown",
   "id": "da7356a1",
   "metadata": {},
   "source": [
    "#### SelectableQPU class"
   ]
  },
  {
   "cell_type": "code",
   "execution_count": null,
   "id": "cfda43d6",
   "metadata": {},
   "outputs": [],
   "source": [
    "from selectable_qpu import SelectableQPU"
   ]
  },
  {
   "cell_type": "markdown",
   "id": "f6a93327",
   "metadata": {},
   "source": [
    "For example we can use the **CLinalAlg** algebra simulator and 512 shots"
   ]
  },
  {
   "cell_type": "code",
   "execution_count": null,
   "id": "05c979ff",
   "metadata": {
    "scrolled": true
   },
   "outputs": [],
   "source": [
    "rain.precision = 1.0\n",
    "home.precision = 0.0\n",
    "print(\"Precision of rain fact is: \", rain.precision)\n",
    "print(\"Precision of home fact is: \", home.precision)\n",
    "SelectableQPU.execute(qrbs, qpu = qpu_c, shots = 512)\n",
    "print(\"Precision of home fact is: \", home.precision)"
   ]
  },
  {
   "cell_type": "markdown",
   "id": "ab906a75",
   "metadata": {},
   "source": [
    "For example we can use the **PyLinAlg** algebra simulator and 16 shots"
   ]
  },
  {
   "cell_type": "code",
   "execution_count": null,
   "id": "73519bad",
   "metadata": {},
   "outputs": [],
   "source": [
    "rain.precision = 1.0\n",
    "home.precision = 0.0\n",
    "print(\"Precision of rain fact is: \", rain.precision)\n",
    "print(\"Precision of home fact is: \", home.precision)\n",
    "SelectableQPU.execute(qrbs, qpu = qpu_python, shots = 16)\n",
    "print(\"Precision of home fact is: \", home.precision)"
   ]
  },
  {
   "cell_type": "markdown",
   "id": "da5fea98",
   "metadata": {},
   "source": [
    "### 2.1 Builder"
   ]
  },
  {
   "cell_type": "markdown",
   "id": "09fec1f5",
   "metadata": {},
   "source": [
    "Inside the **MyQlmQPU** class a **Builder** object is created. The builder is a [Visitor](https://en.wikipedia.org/wiki/Visitor_pattern) that processes a complete *knowledge island* and builds the corresponding quantum circuit associated with the *island* set of rules. \n",
    "\n",
    "In the **QRBS** library until three different *builders* were implemented into the **neasqc_qrbs.knowledge_rep** module:\n",
    "\n",
    "* BuilderImpl: implements **Certainty factors** visitor.\n",
    "* BuilderFuzzy: implements **Fuzzy logic** visitor.\n",
    "* BuilderBayes: implements **Bayesian networks** visitor.\n",
    "\n",
    "The **SelectableQPU** (or **MyQlmQPU**) class builds the different quantum circuits associated with the different islands of **QRBS** using a **Builder** object, executes them and changes the precision of the different facts according to the results of the execution of the quantum circuit.\n",
    "\n",
    "The user can visualize the associated quantum circuit of an island using the *build* method of the corresponding island and provide it with a desired **Builder** object."
   ]
  },
  {
   "cell_type": "code",
   "execution_count": null,
   "id": "ce3148bc",
   "metadata": {},
   "outputs": [],
   "source": [
    "# The three Builders\n",
    "from neasqc_qrbs.knowledge_rep import  BuilderImpl, BuilderBayes, BuilderFuzzy"
   ]
  },
  {
   "cell_type": "code",
   "execution_count": null,
   "id": "94c6c50e",
   "metadata": {
    "scrolled": true
   },
   "outputs": [],
   "source": [
    "# Certainty factors engine\n",
    "qc = island.build(BuilderImpl())\n",
    "%qatdisplay qc --sv"
   ]
  },
  {
   "cell_type": "code",
   "execution_count": null,
   "id": "1b730b09",
   "metadata": {},
   "outputs": [],
   "source": [
    "# Fuzzy Logic engine\n",
    "qc = island.build(BuilderFuzzy())\n",
    "%qatdisplay qc --sv"
   ]
  },
  {
   "cell_type": "code",
   "execution_count": null,
   "id": "a3e49ba8",
   "metadata": {},
   "outputs": [],
   "source": [
    "# Bayesian Networks engine\n",
    "qc = island.build(BuilderBayes())\n",
    "%qatdisplay qc --sv"
   ]
  },
  {
   "cell_type": "markdown",
   "id": "ff5dbc2d",
   "metadata": {},
   "source": [
    "In fact, we can use different builders when executing the **QRBS** by providing to the execute method of **MyQlmQPU** the following strings:\n",
    "\n",
    "* *cf*: for using **Certainty factors** engine\n",
    "* *fuzzy*: for using **Fuzzy Logic** engine\n",
    "* *bayes*: for using **Bayesian Networks** engine"
   ]
  },
  {
   "cell_type": "code",
   "execution_count": null,
   "id": "97420c82",
   "metadata": {},
   "outputs": [],
   "source": [
    "rain.precision = 0.0\n",
    "home.precision = 0.0\n",
    "print(\"Precision of rain fact before is: \", rain.precision)\n",
    "print(\"Precision of home fact before is: \", home.precision)\n",
    "SelectableQPU.execute(qrbs,  model='cf', qpu=qpu_c, shots=512)\n",
    "print(\"Precision of rain fact after is: \", rain.precision)\n",
    "print(\"Precision of home fact after is: \", home.precision)"
   ]
  },
  {
   "cell_type": "code",
   "execution_count": null,
   "id": "345db31b",
   "metadata": {},
   "outputs": [],
   "source": [
    "rain.precision = 0.0\n",
    "home.precision = 1.0\n",
    "print(\"Precision of rain fact before is: \", rain.precision)\n",
    "print(\"Precision of home fact before is: \", home.precision)\n",
    "SelectableQPU.execute(qrbs,  model='fuzzy', qpu=qpu_python, shots=512)\n",
    "print(\"Precision of rain fact after is: \", rain.precision)\n",
    "print(\"Precision of home fact after is: \", home.precision)"
   ]
  },
  {
   "cell_type": "code",
   "execution_count": null,
   "id": "69acc18f",
   "metadata": {
    "scrolled": true
   },
   "outputs": [],
   "source": [
    "rain.precision = 1.0\n",
    "home.precision = 0.0\n",
    "print(\"Precision of rain fact before is: \", rain.precision)\n",
    "print(\"Precision of home fact before is: \", home.precision)\n",
    "SelectableQPU.execute(qrbs,  model='bayes', qpu=qpu_python, shots=512)\n",
    "print(\"Precision of rain fact after is: \", rain.precision)\n",
    "print(\"Precision of home fact after is: \", home.precision)"
   ]
  },
  {
   "cell_type": "markdown",
   "id": "a946aca2",
   "metadata": {},
   "source": [
    "## 3. Logical Operators in QRBS"
   ]
  },
  {
   "cell_type": "markdown",
   "id": "3c57f206",
   "metadata": {},
   "source": [
    "For a **RBS** the rules can have a complex interdependency between facts. For building such interdependencies the operators **AND**, **OR** and **NOT** are used. In the **QRBS** library these three operators are located inside the **neasqc_qrbs.knowledge_rep** module and are implemented as Python classes:\n",
    "\n",
    "* **AndOperator**\n",
    "* **OrOperator**\n",
    "* **NotOperator**"
   ]
  },
  {
   "cell_type": "code",
   "execution_count": null,
   "id": "c38a29ba",
   "metadata": {},
   "outputs": [],
   "source": [
    "from neasqc_qrbs.knowledge_rep import AndOperator, OrOperator, NotOperator"
   ]
  },
  {
   "cell_type": "markdown",
   "id": "46b3e5c9",
   "metadata": {},
   "source": [
    "We are going to create the **QRBS** associated with the following categorical sentence: *If it rains and I am tired or if it does not rain and I want to read I stay at home*."
   ]
  },
  {
   "cell_type": "code",
   "execution_count": null,
   "id": "c08ebb41",
   "metadata": {},
   "outputs": [],
   "source": [
    "#first: we need to instantiat the QRBS\n",
    "second_qrbs = QRBS()\n",
    "\n",
    "#Second define the facts\n",
    "\n",
    "#rain fact\n",
    "rain = second_qrbs.assert_fact(\"rain\", \"rain\")\n",
    "#tired fact\n",
    "tired = second_qrbs.assert_fact(\"tired\", \"tired\")\n",
    "#read fact\n",
    "read = second_qrbs.assert_fact(\"read\", \"read\")\n",
    "#home fact\n",
    "home = second_qrbs.assert_fact(\"home\", \"home\")\n",
    "\n",
    "# Third Create the Rules:\n",
    "lrh = OrOperator(AndOperator(rain, tired), AndOperator(NotOperator(rain), read))\n",
    "rule1 = second_qrbs.assert_rule(lrh, home)\n",
    "rule1.certainty = 1.0\n",
    "\n",
    "# Fourht Create the knowledge islands\n",
    "island = second_qrbs.assert_island([rule1])\n"
   ]
  },
  {
   "cell_type": "markdown",
   "id": "7ff1dadf",
   "metadata": {},
   "source": [
    "We can use the builders for visualizing the circuits"
   ]
  },
  {
   "cell_type": "code",
   "execution_count": null,
   "id": "88653cb9",
   "metadata": {
    "scrolled": true
   },
   "outputs": [],
   "source": [
    "# Certainty factors engine\n",
    "qc = island.build(BuilderImpl())\n",
    "%qatdisplay qc --sv"
   ]
  },
  {
   "cell_type": "code",
   "execution_count": null,
   "id": "5674273b",
   "metadata": {},
   "outputs": [],
   "source": [
    "# Fuzzy Logic engine\n",
    "qc = island.build(BuilderFuzzy())\n",
    "%qatdisplay qc --sv"
   ]
  },
  {
   "cell_type": "code",
   "execution_count": null,
   "id": "17a314de",
   "metadata": {},
   "outputs": [],
   "source": [
    "# Bayesian Networks engine\n",
    "qc = island.build(BuilderBayes())\n",
    "%qatdisplay qc --sv"
   ]
  },
  {
   "cell_type": "markdown",
   "id": "cf435f03",
   "metadata": {},
   "source": [
    "We can execute now the inference:"
   ]
  },
  {
   "cell_type": "code",
   "execution_count": null,
   "id": "2d179ef1",
   "metadata": {},
   "outputs": [],
   "source": [
    "print(\"Precision of home fact before is: \", home.precision)\n",
    "SelectableQPU.execute(second_qrbs, model='fuzzy', qpu=qpu_python, shots=16)\n",
    "print(\"Precision of home fact after is: \", home.precision)"
   ]
  },
  {
   "cell_type": "code",
   "execution_count": null,
   "id": "843942dd",
   "metadata": {},
   "outputs": [],
   "source": [
    "rain.precision = 1.0\n",
    "tired.precision = 1.0\n",
    "print(\"Precision of rain fact before is: \", rain.precision)\n",
    "print(\"Precision of tired fact before is: \", tired.precision)\n",
    "print(\"Precision of home fact before is: \", home.precision)\n",
    "SelectableQPU.execute(second_qrbs, model='fuzzy', qpu=qpu_python, shots=16)\n",
    "print(\"Precision of home fact after is: \", home.precision)"
   ]
  },
  {
   "cell_type": "code",
   "execution_count": null,
   "id": "4bbef155",
   "metadata": {},
   "outputs": [],
   "source": [
    "rain.precision = 0.0\n",
    "read.precision = 1.0\n",
    "home.precision = 0.0\n",
    "print(\"Precision of rain fact before is: \", rain.precision)\n",
    "print(\"Precision of read fact before is: \", read.precision)\n",
    "print(\"Precision of home fact before is: \", home.precision)\n",
    "SelectableQPU.execute(second_qrbs, model='fuzzy', qpu=qpu_c, shots=1024)\n",
    "print(\"Precision of home fact after is: \", home.precision)"
   ]
  },
  {
   "cell_type": "code",
   "execution_count": null,
   "id": "613842cc",
   "metadata": {},
   "outputs": [],
   "source": []
  }
 ],
 "metadata": {
  "kernelspec": {
   "display_name": "Python 3 (ipykernel)",
   "language": "python",
   "name": "python3"
  },
  "language_info": {
   "codemirror_mode": {
    "name": "ipython",
    "version": 3
   },
   "file_extension": ".py",
   "mimetype": "text/x-python",
   "name": "python",
   "nbconvert_exporter": "python",
   "pygments_lexer": "ipython3",
   "version": "3.9.16"
  }
 },
 "nbformat": 4,
 "nbformat_minor": 5
}
