{
 "cells": [
  {
   "cell_type": "markdown",
   "id": "09a317e6-5d73-46ca-a31b-7dbb022cb480",
   "metadata": {},
   "source": [
    "# Basket QRBS with Noise\n",
    "\n",
    "This notebook introduces how to use noisy QPUs for evaluating the basket problem. \n",
    "\n",
    "**BE AWARE** This notebook can only be used inside a **EVIDEN QLM**"
   ]
  },
  {
   "cell_type": "markdown",
   "id": "cb1cc212-1f4b-43dc-b85a-8a2faa75135d",
   "metadata": {},
   "source": [
    "### 0. Initial imports and configuration"
   ]
  },
  {
   "cell_type": "code",
   "execution_count": null,
   "id": "fac4954a",
   "metadata": {
    "tags": []
   },
   "outputs": [],
   "source": [
    "import sys\n",
    "sys.path.append(\"../\")\n",
    "sys.path.append(\"../../\")\n",
    "import itertools as it\n",
    "import pandas as pd\n",
    "import numpy as np\n",
    "from qat.core import Job, Batch"
   ]
  },
  {
   "cell_type": "code",
   "execution_count": null,
   "id": "f1febc93",
   "metadata": {
    "tags": []
   },
   "outputs": [],
   "source": [
    "# starting SelectableQPU object\n",
    "from selectable_qpu import SelectableQPU\n",
    "qpu_selected = SelectableQPU()"
   ]
  },
  {
   "cell_type": "code",
   "execution_count": null,
   "id": "94feb287",
   "metadata": {
    "tags": []
   },
   "outputs": [],
   "source": [
    "# For ideal qpus selection\n",
    "from qpu.select_qpu import select_qpu\n",
    "from qpu.benchmark_utils import combination_for_list\n",
    "# List with the strings that should be provided for an ideal QPU\n",
    "ideal_qpus = [\"c\", \"python\", \"linalg\", \"mps\", \"qlmass_linalg\", \"qlmass_mps\"]\n",
    "qpu_config_c = {\n",
    "    \"qpu_type\": ideal_qpus[2], \n",
    "}\n",
    "ideal_qpu = select_qpu(qpu_config_c)"
   ]
  },
  {
   "cell_type": "code",
   "execution_count": null,
   "id": "31c969ae",
   "metadata": {
    "tags": []
   },
   "outputs": [],
   "source": [
    "# The basket QRBS\n",
    "from basket import basquet_qrbs"
   ]
  },
  {
   "cell_type": "markdown",
   "id": "a1711007-c27f-41a9-b228-98d60e11a7ed",
   "metadata": {},
   "source": [
    "The players used for evaluation"
   ]
  },
  {
   "cell_type": "code",
   "execution_count": null,
   "id": "021bac27",
   "metadata": {
    "tags": []
   },
   "outputs": [],
   "source": [
    "Name = [\"Elias\", \"Blas\", \"Luis\", \"Juan\", \"Raul\", \"Cholo\"]\n",
    "Throws = [16, 17, 17, 15, 18, 18]\n",
    "Heights = [198, 193, 188, 203, 176, 186]"
   ]
  },
  {
   "cell_type": "markdown",
   "id": "70dd1dab-5ff4-4eca-a2c1-03a182056656",
   "metadata": {
    "tags": []
   },
   "source": [
    "## 1. Ideal Solution\n",
    "\n",
    "First thing we are going to used ideal simulation using the different models of the QRBS for comparison purpouses"
   ]
  },
  {
   "cell_type": "code",
   "execution_count": null,
   "id": "f0920dbe",
   "metadata": {
    "tags": []
   },
   "outputs": [],
   "source": [
    "final_model_ideal = []\n",
    "for model in [\"cf\", \"fuzzy\", \"bayes\"]:\n",
    "\n",
    "    player_evaluation_ideal = [\n",
    "        basquet_qrbs(t, h, qpu_selected, type_qpu=ideal_qpu, shots=0, model=model) for t, h in zip(Throws, Heights)\n",
    "    ]\n",
    "    pdf_ideal = [[n, t, h, p[\"final_score\"]] for n, t, h, p in zip(Name, Throws, Heights, player_evaluation_ideal)]\n",
    "    pdf_ideal = pd.DataFrame(\n",
    "        pdf_ideal,\n",
    "        columns = [\"Name\", \"Throws\", \"Height\", \"Final_Score\"]\n",
    "    )\n",
    "    pdf_ideal.sort_values([\"Final_Score\"], ascending=False, inplace=True)\n",
    "    final_model_ideal.append(pdf_ideal)"
   ]
  },
  {
   "cell_type": "markdown",
   "id": "8a3c8390-78fc-4ee4-bd96-d1ece9d5ecc5",
   "metadata": {},
   "source": [
    "The 3 models (**CF**, **FUZZY** y **BAYES**) should output the same scores"
   ]
  },
  {
   "cell_type": "code",
   "execution_count": null,
   "id": "53dcad32-961e-4e61-8c60-93c06479dcef",
   "metadata": {
    "tags": []
   },
   "outputs": [],
   "source": [
    "#cf\n",
    "final_model_ideal[0]"
   ]
  },
  {
   "cell_type": "code",
   "execution_count": null,
   "id": "f71c39f2-12f7-4a83-8e2b-2b8b420ecd2f",
   "metadata": {
    "tags": []
   },
   "outputs": [],
   "source": [
    "# fuzzy\n",
    "final_model_ideal[1]"
   ]
  },
  {
   "cell_type": "code",
   "execution_count": null,
   "id": "463825f7-b597-440d-b044-babaeed598ea",
   "metadata": {
    "tags": []
   },
   "outputs": [],
   "source": [
    "# bayes\n",
    "final_model_ideal[2]"
   ]
  },
  {
   "cell_type": "code",
   "execution_count": null,
   "id": "c336031a-0751-47cd-b38b-fe63dcdaf150",
   "metadata": {
    "tags": []
   },
   "outputs": [],
   "source": [
    "# cf vs fuzzy\n",
    "np.isclose(final_model_ideal[0][\"Final_Score\"], final_model_ideal[1][\"Final_Score\"] )"
   ]
  },
  {
   "cell_type": "code",
   "execution_count": null,
   "id": "894c3e76-0fdf-48f0-a2f1-8688968724e4",
   "metadata": {
    "tags": []
   },
   "outputs": [],
   "source": [
    "# cf vs bayes\n",
    "np.isclose(final_model_ideal[0][\"Final_Score\"], final_model_ideal[2][\"Final_Score\"] )"
   ]
  },
  {
   "cell_type": "code",
   "execution_count": null,
   "id": "bce996df-f0bc-4bfb-96cc-14a5a646c408",
   "metadata": {
    "tags": []
   },
   "outputs": [],
   "source": [
    "# ideal results\n",
    "final_model_ideal[0]"
   ]
  },
  {
   "cell_type": "markdown",
   "id": "aac72f27-d015-4cff-a400-750b333fc18f",
   "metadata": {},
   "source": [
    "## 2. Circuit Rewriting\n",
    "\n",
    "Now we are going to simulate the system using an ideal QPU but we are going to rewrite the quantum circuits generated by the basket **QRBS**. We need to instantiate another **QPU**. We are going to use the following dictionary where we have updated the value of the **qpu_type** key to **ideal** and the **kak_compiler** key to *ZXZ* (consecutive one qubit gates will be merged in one unitary operator and decompose following the pattern: $R_z-R_x-R_z$). In this case, by default, the **LinaAlg** algebra simulator will be used for doing the computations.\n"
   ]
  },
  {
   "cell_type": "code",
   "execution_count": null,
   "id": "f32d3462-3239-4fb4-9494-4aa47d2fbf33",
   "metadata": {
    "tags": []
   },
   "outputs": [],
   "source": [
    "rewriter_qpu = [{\n",
    "    \"qpu_type\": [\"ideal\"],\n",
    "    \"kak_compiler\" : [\"ZXZ\"],\n",
    "    \"qpu_name\" : [\"ideal\"],\n",
    "    \"t_gate_1qb\" : [None],\n",
    "    \"t_gate_2qbs\" : [None],\n",
    "    \"t_readout\": [None],\n",
    "    \"sim_method\" : [\n",
    "        {\n",
    "        \"sim_method\": \"deterministic\",\n",
    "        \"n_samples\" : None,\n",
    "        \"bond_dimension\": None\n",
    "        },\n",
    "        {\n",
    "        \"sim_method\": \"stochastic\",\n",
    "        \"n_samples\" : 100, \n",
    "        \"bond_dimension\": None            \n",
    "        },\n",
    "        {\n",
    "        \"sim_method\": \"mpo\",\n",
    "        \"n_samples\" : None,\n",
    "        \"bond_dimension\": 16\n",
    "        },        \n",
    "    ],\n",
    "    \"n_samples\" : [1000],\n",
    "    \"depol_channel\" : [{\n",
    "        \"active\": False,\n",
    "        \"error_gate_1qb\" : None,\n",
    "        \"error_gate_2qbs\" : None\n",
    "    }],\n",
    "    \"idle\" : [{\n",
    "        \"amplitude_damping\": False,\n",
    "        \"dephasing_channel\": False,\n",
    "        \"t1\" : None,\n",
    "        \"t2\" : None\n",
    "    }],\n",
    "    \"meas\": [{\n",
    "        \"active\":False,\n",
    "        \"readout_error\": None\n",
    "    }]\n",
    "}]\n",
    "ideal_rewriter = combination_for_list(rewriter_qpu)\n",
    "ideal_rewriter_qpu = select_qpu(ideal_rewriter[0])"
   ]
  },
  {
   "cell_type": "markdown",
   "id": "a613352c-5a94-455f-a939-2bfe60b19b42",
   "metadata": {},
   "source": [
    "To show how the circuit rewritter works we are going to extract one ideal quantum circuit from the QRBS and we are going to compile it using the rewritter."
   ]
  },
  {
   "cell_type": "code",
   "execution_count": null,
   "id": "6530b03f-117b-468f-8a49-15e01d09793e",
   "metadata": {
    "tags": []
   },
   "outputs": [],
   "source": [
    "# Get the qrb basket\n",
    "qrb_basket = basquet_qrbs(18, 196, qpu_selected, type_qpu=ideal_qpu, shots=0, model=\"cf\")[\"qrbs\"]\n",
    "# Get and island\n",
    "island = qrb_basket._engine._islands[0]\n",
    "# select builder\n",
    "builder = qpu_selected.BUILDERS[\"cf\"]\n",
    "circuit = island.build(builder)\n",
    "# This is one ideal quantum circuit used by the basket qrbs\n",
    "%qatdisplay circuit"
   ]
  },
  {
   "cell_type": "code",
   "execution_count": null,
   "id": "4e38ea27-9cce-43ce-ad56-50b640753ffb",
   "metadata": {
    "tags": []
   },
   "outputs": [],
   "source": [
    "# Now we compile the circuit using the Rewrittter circuit plugins: \n",
    "new_batch = ideal_rewriter_qpu.compile(Batch(jobs=[circuit.to_job()]))\n",
    "new_circ = new_batch.jobs[0].circuit\n",
    "%qatdisplay new_circ"
   ]
  },
  {
   "cell_type": "markdown",
   "id": "4214c0e6-0e6f-411c-9992-02346d09a66b",
   "metadata": {},
   "source": [
    "As can be seen the $M$ gates from the **QRBS** circuit were decomposed following the desired pattern ($R_z-R_x-R_z$ in the example), and all the *Toffoli* gates were transformed to combinations of 2 and 1 qubit gates.\n",
    "\n",
    "In this case, the **ideal_rewriter_qpu** only rewrittes the circuit but uses ideal simulation so the results should be the same than in the case without rewritting"
   ]
  },
  {
   "cell_type": "code",
   "execution_count": null,
   "id": "5c74481e-6850-4e97-93f4-67a1f7d24427",
   "metadata": {
    "tags": []
   },
   "outputs": [],
   "source": [
    "final_model_rewriter = []\n",
    "for model in [\"cf\", \"fuzzy\", \"bayes\"]:\n",
    "    player_evaluation_ideal_rewriter = [\n",
    "        basquet_qrbs(t, h, qpu_selected, type_qpu=ideal_rewriter_qpu, shots=0, model=model) for t, h in zip(Throws, Heights)\n",
    "    ]\n",
    "    pdf_ideal_rewriter = [[n, t, h, p[\"final_score\"]] for n, t, h, p in zip(Name, Throws, Heights, player_evaluation_ideal_rewriter)]\n",
    "    pdf_ideal_rewriter = pd.DataFrame(\n",
    "        pdf_ideal_rewriter,\n",
    "        columns = [\"Name\", \"Throws\", \"Height\", \"Final_Score\"]\n",
    "    )\n",
    "    pdf_ideal_rewriter.sort_values([\"Final_Score\"], ascending=False, inplace=True)\n",
    "    \n",
    "    final_model_rewriter.append(pdf_ideal_rewriter)"
   ]
  },
  {
   "cell_type": "markdown",
   "id": "484accd0-1c0b-4dc8-a135-e6fa33717a6c",
   "metadata": {},
   "source": [
    "In this case all the simulations should be equal to the initial ideal ones!!"
   ]
  },
  {
   "cell_type": "code",
   "execution_count": null,
   "id": "94b44b48-2e32-4891-8e1d-ba55bd9c2dbf",
   "metadata": {
    "tags": []
   },
   "outputs": [],
   "source": [
    "# Each simulation with circuit rewritting is compared without circuit rewritting\n",
    "for i in range(3):\n",
    "    print(np.isclose(final_model_ideal[i][\"Final_Score\"], final_model_rewriter[i][\"Final_Score\"] ))"
   ]
  },
  {
   "cell_type": "markdown",
   "id": "b611f5ea-bfc2-4c22-8e2f-93e7d6cc3eaf",
   "metadata": {},
   "source": [
    "## 3. Noisy Simulations\n",
    "\n",
    "The **qpu** package allows the user to cofigure noisy simulations in an easy way (by providing a Python configuration dictionary). Here we show how to use it.\n",
    "\n",
    "We are going to load the noisy configurations from a JSON files previously generated,"
   ]
  },
  {
   "cell_type": "code",
   "execution_count": null,
   "id": "0d75e935-558d-403b-bda6-2d64ca0c589a",
   "metadata": {
    "tags": []
   },
   "outputs": [],
   "source": [
    "import json"
   ]
  },
  {
   "cell_type": "code",
   "execution_count": null,
   "id": "9bb58c08-fa3d-44e3-92e3-4df48154a1f8",
   "metadata": {
    "tags": []
   },
   "outputs": [],
   "source": [
    "with open(\"../qpu/qpu_noisy_deterministic.json\") as json_file:\n",
    "    noisy_cfg = json.load(json_file)\n",
    "qpu_list = combination_for_list(noisy_cfg)"
   ]
  },
  {
   "cell_type": "markdown",
   "id": "d7cf81f0-6e1e-42a8-8803-f696899e0637",
   "metadata": {},
   "source": [
    "The JSON file is loaded as a list of Python dictionaries where each element configures different noisy models."
   ]
  },
  {
   "cell_type": "code",
   "execution_count": null,
   "id": "bb95345a-4f42-4307-bd67-41dd2c0f763a",
   "metadata": {
    "tags": []
   },
   "outputs": [],
   "source": [
    "len(qpu_list)"
   ]
  },
  {
   "cell_type": "code",
   "execution_count": null,
   "id": "a8fbaecd-4f2e-4ae0-9b8d-a91b557fec31",
   "metadata": {
    "tags": []
   },
   "outputs": [],
   "source": [
    "qpu_list[1]"
   ]
  },
  {
   "cell_type": "code",
   "execution_count": null,
   "id": "b5c41646-43e2-4f8f-b014-7cad58a2e695",
   "metadata": {
    "tags": []
   },
   "outputs": [],
   "source": [
    "qpu_list[-1]"
   ]
  },
  {
   "cell_type": "code",
   "execution_count": null,
   "id": "3504bd3a-b74a-4ed1-9a38-66509056ad8c",
   "metadata": {
    "tags": []
   },
   "outputs": [],
   "source": [
    "# select a noisy model configuration\n",
    "noisy_id = -1\n",
    "noisy_qpu_cfg = qpu_list[noisy_id]\n",
    "print(noisy_qpu_cfg)"
   ]
  },
  {
   "cell_type": "markdown",
   "id": "bda40a06-16f3-4fcd-b9ca-de2aac9071db",
   "metadata": {},
   "source": [
    "Once the dictionary configuration is selected it should be provided to the *select_qpu* and the properly configured noisy **QPU** object will be returned."
   ]
  },
  {
   "cell_type": "code",
   "execution_count": null,
   "id": "6c9e3639-cd04-4679-a426-cfd76f55f823",
   "metadata": {
    "tags": []
   },
   "outputs": [],
   "source": [
    "noisy_qpu = select_qpu(noisy_qpu_cfg)"
   ]
  },
  {
   "cell_type": "code",
   "execution_count": null,
   "id": "9121c60e-2ea1-4b76-820a-5a1843f78f09",
   "metadata": {
    "tags": []
   },
   "outputs": [],
   "source": [
    "print(noisy_qpu)\n",
    "# Error of 1-qubit gates\n",
    "print(\"Error rate for: 1-qubit gates: {}\".format(\n",
    "    noisy_qpu.hardware_model.gate_noise[\"H\"].keywords[\"rb_eps\"])\n",
    ")\n",
    "#  == noisy_qpu_cfg[\"depol_channel\"][\"error_gate_1qb\"])\n",
    "# Error of 2-qubits gates\n",
    "print(\"Error rate for: 2-qubits gates: {}\".format(\n",
    "    noisy_qpu.hardware_model.gate_noise[\"CNOT\"].keywords[\"rb_eps\"])\n",
    ")\n",
    "# T1 for Amplitude Damping\n",
    "print(\"T1 time: {}\".format(\n",
    "    noisy_qpu.hardware_model.idle_noise[0].T_1)\n",
    "     )\n",
    "# Tvarphi for Dephaising\n",
    "print(\"T1 time: {}\".format(\n",
    "    noisy_qpu.hardware_model.idle_noise[0].T_1)\n",
    "     )\n",
    "\n",
    "print(\"Tvarphi time: {}\".format(noisy_qpu.hardware_model.idle_noise[1].T_phi))\n"
   ]
  },
  {
   "cell_type": "markdown",
   "id": "61465076-d481-4a31-a117-c735b97d9419",
   "metadata": {},
   "source": [
    "Now we can provide the new **noisy_qpu** to the *basquet_qrbs*. \n",
    "\n",
    "**BE AWARE**\n",
    "*deterministic* simulation (*deterministic* in **sim_method** key) will fail for **CF** and **FUZZY** models becuase they generated big circuits (no more than 15 qubits circuits can be simulated with this method). In this case, stochastic simulation shoul be used (the user can load the *../qpu/qpu_noisy_stochastic.json* JSON file where several nosiy models for this kind of simulation were configured)"
   ]
  },
  {
   "cell_type": "code",
   "execution_count": null,
   "id": "0006f9d9-8fd0-4281-96ab-ca7c4476f520",
   "metadata": {
    "tags": []
   },
   "outputs": [],
   "source": [
    "model = \"bayes\"\n",
    "shots = 0\n",
    "player_evaluation_noisy = [\n",
    "    basquet_qrbs(t, h, qpu_selected, type_qpu=noisy_qpu, shots=shots, model=model) for t, h in zip(Throws, Heights)\n",
    "]"
   ]
  },
  {
   "cell_type": "code",
   "execution_count": null,
   "id": "df85cb32-cd55-4646-832e-318aaee562e3",
   "metadata": {
    "tags": []
   },
   "outputs": [],
   "source": [
    "pdf_noisy = [[n, t, h, p[\"final_score\"]] for n, t, h, p in zip(Name, Throws, Heights, player_evaluation_noisy)]\n",
    "pdf_noisy = pd.DataFrame(\n",
    "    pdf_noisy,\n",
    "    columns = [\"Name\", \"Throws\", \"Height\", \"Final_Score\"]\n",
    ")\n",
    "pdf_noisy.sort_values([\"Final_Score\"], ascending=False, inplace=True)\n",
    "pdf_noisy.reset_index(drop=True, inplace=True)\n"
   ]
  },
  {
   "cell_type": "code",
   "execution_count": null,
   "id": "7a37f240-a1cf-4264-9997-f63f704562ab",
   "metadata": {
    "tags": []
   },
   "outputs": [],
   "source": [
    "pdf_noisy"
   ]
  },
  {
   "cell_type": "code",
   "execution_count": null,
   "id": "1f7f6372-e177-4e39-b634-4ae85efc7bfd",
   "metadata": {
    "tags": []
   },
   "outputs": [],
   "source": [
    "pdf_ideal"
   ]
  },
  {
   "cell_type": "markdown",
   "id": "6e6ae997-b2ab-4418-9a80-babab5768e21",
   "metadata": {},
   "source": [
    "## 5. launch_basket.py script\n",
    "\n",
    "Additionally a script called *launch_basket.py* was developed. This script allows to execute the basket qrb from command line. \n",
    "\n",
    "Use the following command for getting the help:\n",
    "\n",
    "    python launch_basket.py -h\n",
    "    \n",
    "The help menu is the following:\n",
    "\n",
    "    Module Not Found\n",
    "    usage: launch_basket.py [-h] [-players PLAYERS] [-json_qpu JSON_QPU] [-model MODEL] [-id ID]\n",
    "                            [-shots SHOTS] [-name BASE_NAME] [--count] [--all] [--print] [--save] [--test]\n",
    "                            [-folder FOLDER_PATH] [--exe]\n",
    "\n",
    "    optional arguments:\n",
    "      -h, --help           show this help message and exit\n",
    "      -players PLAYERS     csv with the player list to evaluate\n",
    "      -json_qpu JSON_QPU   JSON with the qpu configuration\n",
    "      -model MODEL         cf, bayes, fuzzy\n",
    "      -id ID               For executing only one element of the list\n",
    "      -shots SHOTS         For executing only one element of the list\n",
    "      -name BASE_NAME      Additional name for the generated files\n",
    "      --count              For counting elements on the list\n",
    "      --all                For executing complete list\n",
    "      --print              For printing the AE algorihtm configuration.\n",
    "      --save               For saving staff\n",
    "      --test               Only one player will be evaluated.\n",
    "      -folder FOLDER_PATH  Path for storing folder\n",
    "      --exe                For executing program\n",
    "      \n",
    "      \n",
    "The players for evaluating should be given as a CSV file (an example of the file is provided in the **basket_players.csv**). \n",
    "\n",
    "An example of execution will be:\n",
    "\n",
    "    python launch_basket.py -players ./basket_players.csv -json_qpu qpu/qpu_ideal.json -model cf -shots 0 -id 2 --print --exe --save -name players -folder ./results/\n",
    "    \n",
    "In this case the *qpu/qpu_ideal.json* file is used for configuring the QPU (the selected qpu will be the second one: -id 2). The model for the QRBS will be certainty factors (-model cf) simulation will be ideal ( -shots 0). The results will be saved (--save) in the folder ./results (-folder ./results/) and the obtainted file will have as base name players (-name players.\n",
    "\n",
    "\n",
    "Noisy simulations can be executed by providing a JSON file properly configured (like for example **../qpu/qpu_noisy_deterministic.json** or **../qpu/qpu_noisy_stochastic.json**)"
   ]
  }
 ],
 "metadata": {
  "kernelspec": {
   "display_name": "Python 3 (ipykernel)",
   "language": "python",
   "name": "python3"
  },
  "language_info": {
   "codemirror_mode": {
    "name": "ipython",
    "version": 3
   },
   "file_extension": ".py",
   "mimetype": "text/x-python",
   "name": "python",
   "nbconvert_exporter": "python",
   "pygments_lexer": "ipython3",
   "version": "3.9.16"
  }
 },
 "nbformat": 4,
 "nbformat_minor": 5
}
