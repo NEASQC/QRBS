{
 "cells": [
  {
   "cell_type": "markdown",
   "id": "f5e7eb35",
   "metadata": {},
   "source": [
    "# BASKETBALL SELECTION PROBLEM\n",
    "\n",
    "We are going to develop a **QRBS** for selecting a basket player. The inputs of this **QRBS** will be the *height* of the player and the *throw skill of the player* that is evaluated by the number of annonated throws over 20."
   ]
  },
  {
   "cell_type": "code",
   "execution_count": null,
   "id": "b0bb5a13",
   "metadata": {},
   "outputs": [],
   "source": [
    "import sys\n",
    "sys.path.append(\"../\")\n",
    "import itertools as it\n",
    "import pandas as pd\n",
    "import numpy as np"
   ]
  },
  {
   "cell_type": "code",
   "execution_count": null,
   "id": "7c2e907e",
   "metadata": {},
   "outputs": [],
   "source": [
    "from neasqc_qrbs.qrbs import QRBS\n",
    "from neasqc_qrbs.knowledge_rep import AndOperator, OrOperator, NotOperator\n",
    "from selectable_qpu import SelectableQPU\n",
    "\n",
    "qpu_selected = SelectableQPU()"
   ]
  },
  {
   "cell_type": "code",
   "execution_count": null,
   "id": "90a44939",
   "metadata": {},
   "outputs": [],
   "source": [
    "# myQLM qpus\n",
    "from qpu.select_qpu import select_qpu\n",
    "# List with the strings that should be provided for an ideal QPU\n",
    "ideal_qpus = [\"c\", \"python\", \"linalg\", \"mps\", \"qlmass_linalg\", \"qlmass_mps\"]\n",
    "qpu_config_c = {\n",
    "    \"qpu_type\": ideal_qpus[0], \n",
    "}\n",
    "qpu = select_qpu(qpu_config_c)"
   ]
  },
  {
   "cell_type": "code",
   "execution_count": null,
   "id": "9f6dd1c4",
   "metadata": {},
   "outputs": [],
   "source": [
    "from matplotlib import pyplot as plt\n",
    "%matplotlib inline"
   ]
  },
  {
   "cell_type": "markdown",
   "id": "62ebfaf6",
   "metadata": {},
   "source": [
    "## 0. Function for selecting the membership function of the different facts\n",
    "\n",
    "We are going to define the two following functions:\n",
    "\n",
    "* **degree_of_membership**: This functions computes the degree of membership of a fixed input **x** to a picewise linear function defined by an input **text** string in the following format: **\"y_0/x_0-y_1/x_1-...-y_f/x_f\"**.\n",
    "\n",
    "* **get_membership_function**: this functions returns the linear picewise membership_function for a input **domain**. The picewise definition should be provided in the following format: **\"y_0/x_0-y_1/x_1-...-y_f/x_f\"**\n",
    "\n",
    "The idea is use this functions for asigning the precision of the facts in function of the inputs "
   ]
  },
  {
   "cell_type": "code",
   "execution_count": null,
   "id": "77a8056c",
   "metadata": {},
   "outputs": [],
   "source": [
    "def degree_of_membership(x, text):\n",
    "    list_ = text.split(\"-\")      \n",
    "    \n",
    "    for i in range(len(list_)-1):\n",
    "        str_start = list_[i]\n",
    "        x_0 = float(str_start.split(\"/\")[1])\n",
    "        y_0 = float(str_start.split(\"/\")[0])\n",
    "        \n",
    "        if (i==0) and (x <= x_0):\n",
    "            return y_0\n",
    "        str_end = list_[i+1]        \n",
    "        x_1 = float(str_end.split(\"/\")[1])\n",
    "        y_1 = float(str_end.split(\"/\")[0])           \n",
    "        if (x >= x_0) and (x <= x_1):\n",
    "            slope = (y_1 - y_0) / (x_1 - x_0)\n",
    "            intercept = y_1 - slope * x_1\n",
    "            return slope * x + intercept\n",
    "    return y_1\n",
    "def get_membership_function(domain, text):\n",
    "\n",
    "    list_ = text.split(\"-\")\n",
    "    domain_x_0 = float(list_[0].split(\"/\")[1])\n",
    "    domain_x_f = float(list_[-1].split(\"/\")[1])\n",
    "    array = np.array(\n",
    "        list(map(lambda x: degree_of_membership(x, text), domain))\n",
    "    )\n",
    "    #array = np.where(np.array(domain) >= domain_x_0, array, np.NaN)\n",
    "    #array = np.where(np.array(domain) <= domain_x_f, array, np.NaN)\n",
    "    return array"
   ]
  },
  {
   "cell_type": "markdown",
   "id": "ea415a2e",
   "metadata": {},
   "source": [
    "Here we provide some example of uses:"
   ]
  },
  {
   "cell_type": "code",
   "execution_count": null,
   "id": "afee4611",
   "metadata": {},
   "outputs": [],
   "source": [
    "# Definition of the mebership function\n",
    "definition_mf = \"0/11-1/13-1/15-0/17\"\n",
    "\n",
    "# Getting the degree of membership for x\n",
    "x = 16\n",
    "print(\"For x= {} the degree of membership to the funcion: {} is {}\".format(\n",
    "    x, definition_mf, degree_of_membership(x, definition_mf)))\n",
    "\n",
    "# Getting the membership function for an input domain\n",
    "\n",
    "domain = np.linspace(0, 20, 100)\n",
    "m_f= get_membership_function(domain, definition_mf)\n",
    "plt.plot(domain, m_f)"
   ]
  },
  {
   "cell_type": "code",
   "execution_count": null,
   "id": "ab2d884e",
   "metadata": {},
   "outputs": [],
   "source": [
    "# Tests \n",
    "# MUST be 0\n",
    "y = degree_of_membership(2, \"0/11-1/13-1/15-0/17\")\n",
    "print(\"MUST be 0. Result: \", y) \n",
    "\n",
    "# Between 0 - 1\n",
    "y = degree_of_membership(12, \"0/11-1/13-1/15-0/17\")\n",
    "print(\"BETWEEN 0-1. Result: \", y) \n",
    "\n",
    "# # MUST be 1\n",
    "y = degree_of_membership(13, \"0/11-1/13-1/15-0/17\")\n",
    "print(\"MUST be 1. Result: \", y) \n",
    "\n",
    "# # MUST be 1\n",
    "y = degree_of_membership(14, \"0/11-1/13-1/15-0/17\")\n",
    "print(\"MUST be 1. Result: \", y) \n",
    "\n",
    "# Between 0 - 1\n",
    "y = degree_of_membership(16, \"0/11-1/13-1/15-0/17\")\n",
    "print(\"BETWEEN 0-1. Result: \", y) \n",
    "\n",
    "# MUST be 0\n",
    "y = degree_of_membership(17, \"0/11-1/13-1/15-0/17\")\n",
    "print(\"MUST be 0. Result: \", y) "
   ]
  },
  {
   "cell_type": "markdown",
   "id": "a1435dda",
   "metadata": {},
   "source": [
    "## 1. Create the different parts of the QRBS\n",
    "\n",
    "First, as usual, we need to instantiate the **Quantum Rule Based System**"
   ]
  },
  {
   "cell_type": "code",
   "execution_count": null,
   "id": "04438926",
   "metadata": {},
   "outputs": [],
   "source": [
    "# Instantiate the QRBS\n",
    "basket =  QRBS()"
   ]
  },
  {
   "cell_type": "markdown",
   "id": "0fbc1460",
   "metadata": {},
   "source": [
    "### 1.1 Facts\n",
    "\n",
    "Now we need to define the different facts (inputs and outputs) for the **QRBS**:\n",
    "* Input facts:\n",
    "    * Related to the throw skill of the player\n",
    "    * Related to the height of the player\n",
    "* Output facts: The final evaluation of the player. It depends on the rule of the **QRBS** and the input facts\n"
   ]
  },
  {
   "cell_type": "markdown",
   "id": "426e6cab",
   "metadata": {},
   "source": [
    "#### Related to the throw skill of the player\n",
    "\n",
    "Here we program the *facts* that deal with the throws of the player. We are going to create 4 possible classifications for the throw skill of the player depending on the number of hitting throws in 20 throws. We define the following membership functions for each of the 4 possible classifications:\n",
    "\n",
    "* \"1/0-1/3-0/7\" -> throw_very_bad\n",
    "* \"0/3-1/5-1/7-0/9\" -> throw_bad\n",
    "* \"0/7-1/10-0/13\" -> throw_regular\n",
    "* \"0/11-1/13-1/15-0/17\" -> throw_good\n",
    "* \"0/15-1/17-1/20\" -> throw_very_good\n",
    "\n",
    "Now we can create the corresponding facts based on this classification"
   ]
  },
  {
   "cell_type": "code",
   "execution_count": null,
   "id": "221fa40f",
   "metadata": {},
   "outputs": [],
   "source": [
    "# Free throw scoring\n",
    "\n",
    "throw_very_bad = basket.assert_fact(\"throw_very_bad\", \"1/0-1/3-0/7\")\n",
    "throw_bad = basket.assert_fact(\"throw_bad\", \"0/3-1/5-1/7-0/9\")\n",
    "throw_regular = basket.assert_fact(\"throw_regular\", \"0/7-1/10-0/13\")\n",
    "throw_good = basket.assert_fact(\"throw_good\", \"0/11-1/13-1/15-0/17\")\n",
    "throw_very_good = basket.assert_fact(\"throw_very_good\", \"0/15-1/17-1/20\")"
   ]
  },
  {
   "cell_type": "markdown",
   "id": "90e111b2",
   "metadata": {},
   "source": [
    "The **get_membership_function** can be used for getting the corresponding membership function for each possible fact related with the throw skill"
   ]
  },
  {
   "cell_type": "code",
   "execution_count": null,
   "id": "cf1dac0c",
   "metadata": {},
   "outputs": [],
   "source": [
    "domain_throw = np.array(range(0, 21))\n",
    "m_f = get_membership_function(domain_throw, throw_bad.value)\n",
    "plt.plot(domain_throw, m_f)"
   ]
  },
  {
   "cell_type": "code",
   "execution_count": null,
   "id": "4169d062",
   "metadata": {
    "scrolled": false
   },
   "outputs": [],
   "source": [
    "# We can plot all the membership functions for all the facts\n",
    "for fact in [throw_very_bad, throw_bad, throw_regular, throw_good, throw_very_good]:\n",
    "    plt.plot(\n",
    "        domain_throw,\n",
    "        get_membership_function(domain_throw, fact.value)\n",
    "    )\n",
    "plt.xlabel(\"Throws (of 20)\")\n",
    "plt.xlim(0, 20)\n",
    "plt.ylabel(\"Scoring throw\")\n",
    "plt.ylim(0, 1.1)\n",
    "plt.legend([\"throw_very_bad\", \"throw_bad\", \"throw_regular\", \"throw_good\", \"throw_very_good\"])"
   ]
  },
  {
   "cell_type": "markdown",
   "id": "d61f14bf",
   "metadata": {},
   "source": [
    "#### Related to the height of the player\n",
    "\n",
    "For dealing with the height of the player we are going to define 5 classifications with the following membership function definitions:\n",
    "\n",
    "* *height_very_small*: \"1/150-1/170-0/180\"\n",
    "* *height_small*: \"0/170-1/175-1/180-0/185\"\n",
    "* *height_normal*: \"0/180-1/190-0/195\"\n",
    "* *height_tall*: \"0/190-1/195-1/205-0/210\"\n",
    "* *height_very_tall*: \"0/200-1/210-1/250\"\n",
    "\n",
    "Now we can define the facts related to the height:"
   ]
  },
  {
   "cell_type": "code",
   "execution_count": null,
   "id": "9f8a800d",
   "metadata": {},
   "outputs": [],
   "source": [
    "# height scoring\n",
    "\n",
    "height_very_small = basket.assert_fact(\"height_very_small\", \"1/150-1/170-0/180\")\n",
    "height_small = basket.assert_fact(\"height_small\", \"0/170-1/175-1/180-0/185\")\n",
    "height_normal = basket.assert_fact(\"height_normal\", \"0/180-1/190-0/195\")\n",
    "height_tall = basket.assert_fact(\"height_tall\", \"0/190-1/195-1/205-0/210\")\n",
    "height_very_tall = basket.assert_fact(\"height_very_tall\", \"0/200-1/210-1/250\")"
   ]
  },
  {
   "cell_type": "markdown",
   "id": "77544cd3",
   "metadata": {},
   "source": [
    "The **get_membership_function** can be used for getting the corresponding membership function for each possible fact!!"
   ]
  },
  {
   "cell_type": "code",
   "execution_count": null,
   "id": "62e89124",
   "metadata": {
    "scrolled": true
   },
   "outputs": [],
   "source": [
    "# We can plot all the membership functions for all the facts\n",
    "domain_height = np.array(range(150, 250, 5))\n",
    "\n",
    "for fact in [height_very_small, height_small, height_normal, height_tall, height_very_tall]:\n",
    "    plt.plot(\n",
    "        domain_height,\n",
    "        get_membership_function(domain_height, fact.value)\n",
    "    )\n",
    "    \n",
    "plt.xlabel(\"Height (cm)\")\n",
    "plt.xlim(150, 250)\n",
    "plt.ylabel(\"Scoring height\")\n",
    "plt.ylim(0, 1.05)    \n",
    "plt.legend([\"height_very_small\", \"height_small\", \"height_normal\", \"height_tall\", \"height_very_tall\"])"
   ]
  },
  {
   "cell_type": "markdown",
   "id": "4b0e9460",
   "metadata": {},
   "source": [
    "#### Output facts\n",
    "\n",
    "Finally, we are going to classify the player into 4 classifications with the following membership definition functions.\n",
    "\n",
    "* player_bad: \"1/0-0/1\"\n",
    "* player_normal: \"1/0-1/25-0/40\"\n",
    "* player_good: \"0/25-1/40-1/60-0/75\"\n",
    "* player_very_good: \"0/60-1/75-1/100\""
   ]
  },
  {
   "cell_type": "code",
   "execution_count": null,
   "id": "1c3db70e",
   "metadata": {},
   "outputs": [],
   "source": [
    "# player score\n",
    "\n",
    "player_bad = basket.assert_fact(\"player_bad\", \"1/0-0/1\")\n",
    "player_normal = basket.assert_fact(\"player_normal\", \"1/0-1/25-0/40\")\n",
    "player_good = basket.assert_fact(\"player_good\", \"0/25-1/40-1/60-0/75\")\n",
    "player_very_good = basket.assert_fact(\"player_very_good\", \"0/60-1/75-1/100\")"
   ]
  },
  {
   "cell_type": "markdown",
   "id": "532bd34c",
   "metadata": {},
   "source": [
    "We can use the *get_function* for getting the corresponding score classifications!"
   ]
  },
  {
   "cell_type": "code",
   "execution_count": null,
   "id": "5408b9c5",
   "metadata": {},
   "outputs": [],
   "source": [
    "domain_score = np.array(range(0, 101))\n",
    "for i in [player_bad, player_normal, player_good, player_very_good]:\n",
    "    plt.plot(\n",
    "        domain_score,\n",
    "        get_membership_function(domain_score, i.value)\n",
    "    )\n",
    "plt.xlabel(\"Output Score\")\n",
    "plt.xlim(0, 100)\n",
    "plt.ylabel(\"Scoring\")\n",
    "plt.ylim(0, 1.05)     \n",
    "plt.legend([\"player_bad\", \"player_normal\", \"player_good\", \"player_very_good\"])    "
   ]
  },
  {
   "cell_type": "markdown",
   "id": "5b2fa758",
   "metadata": {},
   "source": [
    "### 1.2 Rules\n",
    "\n",
    "Now we need to create the rules of our **QRBS**. We need to create rules that fill each one of the 4 output score classifications, i.e., we need to define rules for classify a player as:\n",
    "\n",
    "* player_bad: rules for a bad player\n",
    "* player_normal: rules for a normal player\n",
    "* player_good: rules for a good player\n",
    "* player_very_good: rules for a very good player"
   ]
  },
  {
   "cell_type": "markdown",
   "id": "a5e87ba1",
   "metadata": {},
   "source": [
    "#### Rules for bad players.\n",
    "\n",
    "Rules for bad players. \n",
    "\n",
    "* Throw: very bad **OR** Throw: bad. In this case, we create the fact: *player_bad_throw* for specifying that the player is bad due to their throw performance.\n",
    "* Height: very small **OR** Height: small. In this case, we create the fact: *small_player* or specify that the player is not enough tall for be a basketball player.\n",
    "* Height: normal **OR** Throw: regular. In this case, we create the fact: *normal_regular* to specify that the player is mediocre.\n"
   ]
  },
  {
   "cell_type": "code",
   "execution_count": null,
   "id": "4c730550",
   "metadata": {},
   "outputs": [],
   "source": [
    "# Rules for Bad player\n",
    "\n",
    "# Bad thrown perfomance\n",
    "throw_bad_player = basket.assert_fact(\"player_bad_throw\", \"player with bad throw\")\n",
    "rule_4 = basket.assert_rule(\n",
    "    OrOperator(throw_very_bad, throw_bad),\n",
    "    throw_bad_player,\n",
    "    1.0\n",
    ")\n",
    "\n",
    "# Not enough tall player\n",
    "small_player = basket.assert_fact(\"small_player\", \"player too small\")\n",
    "rule_5 = basket.assert_rule(\n",
    "    OrOperator(height_very_small, height_small),\n",
    "    small_player,\n",
    "    1.0\n",
    ")\n",
    "\n",
    "# mediocre player\n",
    "normal_regular = basket.assert_fact(\"normal_regular\", \"Normal height and regular throw\")\n",
    "rule_6 = basket.assert_rule(\n",
    "    AndOperator(height_normal, throw_regular),\n",
    "    normal_regular,\n",
    "    1.0\n",
    ")\n",
    "\n",
    "# Rule for bad player\n",
    "rule_bad_player = basket.assert_rule(\n",
    "    OrOperator(\n",
    "        OrOperator(throw_bad_player, small_player),\n",
    "        normal_regular\n",
    "    ),\n",
    "    player_bad,\n",
    "    1.0\n",
    ")    "
   ]
  },
  {
   "cell_type": "markdown",
   "id": "cceb02aa",
   "metadata": {},
   "source": [
    "#### Rules for normal players.\n",
    "\n",
    "The following rules define a normal player:\n",
    "\n",
    "* Height: normal **AND** Throw: good.\n",
    "* Height: normal **AND** Throw: very good.\n",
    "* Height: tall **AND** Throw: regular.\n",
    "* Height: very tall **AND** Throw: regular."
   ]
  },
  {
   "cell_type": "code",
   "execution_count": null,
   "id": "250ae631",
   "metadata": {},
   "outputs": [],
   "source": [
    "# Rule for normal player\n",
    "\n",
    "normal_0 = AndOperator(height_normal, throw_good)\n",
    "normal_1 = AndOperator(height_normal, throw_very_good)\n",
    "normal_2 = AndOperator(height_tall, throw_regular)\n",
    "normal_3 = AndOperator(height_very_tall, throw_regular)\n",
    "\n",
    "normal_f = OrOperator(\n",
    "    OrOperator(\n",
    "        OrOperator(normal_0, normal_1),\n",
    "        normal_2),\n",
    "    normal_3)\n",
    "\n",
    "rule_1 = basket.assert_rule(normal_f, player_normal, 1.0)"
   ]
  },
  {
   "cell_type": "markdown",
   "id": "4ad89151",
   "metadata": {},
   "source": [
    "#### Rules for good players:\n",
    "\n",
    "The following rules define a good player:\n",
    "\n",
    "* Height: tall **AND** Throw: good.\n",
    "* Height: very tall **AND** Throw: good.\n"
   ]
  },
  {
   "cell_type": "code",
   "execution_count": null,
   "id": "6260aac9",
   "metadata": {},
   "outputs": [],
   "source": [
    "# Rule for good player\n",
    "\n",
    "rule_2 = basket.assert_rule(\n",
    "    OrOperator(\n",
    "        AndOperator(height_tall, throw_good),\n",
    "        AndOperator(height_very_tall, throw_good)\n",
    "    ),\n",
    "    player_good,\n",
    "    1.0\n",
    ")"
   ]
  },
  {
   "cell_type": "markdown",
   "id": "e54e0dd0",
   "metadata": {},
   "source": [
    "#### Rules for a very good player\n",
    "\n",
    "* Height: tall **AND** Throw: very good.\n",
    "* Height: very tall **AND** Throw: very good."
   ]
  },
  {
   "cell_type": "code",
   "execution_count": null,
   "id": "7b9f825b",
   "metadata": {},
   "outputs": [],
   "source": [
    "# Rule for very good player\n",
    "\n",
    "rule_3 = basket.assert_rule(\n",
    "    OrOperator(\n",
    "        AndOperator(height_tall, throw_very_good),\n",
    "        AndOperator(height_very_tall, throw_very_good)\n",
    "    ),\n",
    "    player_very_good,\n",
    "    1.0\n",
    ") "
   ]
  },
  {
   "cell_type": "markdown",
   "id": "d74ea94d",
   "metadata": {},
   "source": [
    "### 1.3 Islands\n",
    "\n",
    "Finally, we need to define the *knowledge islands*. One island for output."
   ]
  },
  {
   "cell_type": "code",
   "execution_count": null,
   "id": "c42108da",
   "metadata": {},
   "outputs": [],
   "source": [
    "island_normal = basket.assert_island([rule_1])\n",
    "island_good = basket.assert_island([rule_2])\n",
    "island_very_good = basket.assert_island([rule_3])\n",
    "# Bad player has several chained rules\n",
    "island_bad = basket.assert_island([rule_4, rule_5, rule_6, rule_bad_player])"
   ]
  },
  {
   "cell_type": "markdown",
   "id": "7db7e121",
   "metadata": {},
   "source": [
    "### 1.4 Inference procces\n",
    "\n",
    "Now we have the complete definition of the **QRBS** so we can execute some computations:"
   ]
  },
  {
   "cell_type": "code",
   "execution_count": null,
   "id": "43bed529",
   "metadata": {},
   "outputs": [],
   "source": [
    "target_throws = 16 # of 20\n",
    "height_player = 198 #cm"
   ]
  },
  {
   "cell_type": "code",
   "execution_count": null,
   "id": "8766d141",
   "metadata": {},
   "outputs": [],
   "source": [
    "# Asigning the precision of the facts\n",
    "\n",
    "# for throw facts\n",
    "list_throws = [throw_very_bad, throw_bad, throw_regular, throw_good, throw_very_good]\n",
    "for fact_th in list_throws:\n",
    "    fact_th.precision = degree_of_membership(target_throws, fact_th.value)\n",
    "    \n",
    "# for heihgt facts\n",
    "list_height = [height_very_small, height_small, height_normal, height_tall, height_very_tall]\n",
    "for fact_he in list_height:\n",
    "    fact_he.precision = degree_of_membership(height_player, fact_he.value)"
   ]
  },
  {
   "cell_type": "code",
   "execution_count": null,
   "id": "9a23d396",
   "metadata": {},
   "outputs": [],
   "source": [
    "# Precision for the throw facts\n",
    "[f.precision for f in list_throws]"
   ]
  },
  {
   "cell_type": "code",
   "execution_count": null,
   "id": "88f10277",
   "metadata": {},
   "outputs": [],
   "source": [
    "# Precision for the height facts\n",
    "[f.precision for f in list_height]"
   ]
  },
  {
   "cell_type": "markdown",
   "id": "469a8e01",
   "metadata": {},
   "source": [
    "Now we can execute the inference process!! \n",
    "We need to provide:\n",
    "* qpu\n",
    "* shots\n",
    "* model for indetermination propagation"
   ]
  },
  {
   "cell_type": "code",
   "execution_count": null,
   "id": "92995fff",
   "metadata": {},
   "outputs": [],
   "source": [
    "qpu_selected.execute(basket, qpu=qpu, shots=100, model=\"cf\")"
   ]
  },
  {
   "cell_type": "markdown",
   "id": "62384145",
   "metadata": {},
   "source": [
    "Now we have the precision for each of the output facts!"
   ]
  },
  {
   "cell_type": "code",
   "execution_count": null,
   "id": "150d0c92",
   "metadata": {},
   "outputs": [],
   "source": [
    "player_score = [player_bad, player_normal, player_good, player_very_good]"
   ]
  },
  {
   "cell_type": "code",
   "execution_count": null,
   "id": "59435290",
   "metadata": {
    "scrolled": true
   },
   "outputs": [],
   "source": [
    "[i.precision for i in player_score]"
   ]
  },
  {
   "cell_type": "markdown",
   "id": "b6710cfe",
   "metadata": {},
   "source": [
    "Additionally we can have the precisions for the facts for bad player:"
   ]
  },
  {
   "cell_type": "code",
   "execution_count": null,
   "id": "af497657",
   "metadata": {},
   "outputs": [],
   "source": [
    "[f_.precision for f_ in [throw_bad_player, small_player, normal_regular]]"
   ]
  },
  {
   "cell_type": "markdown",
   "id": "b90fa245",
   "metadata": {},
   "source": [
    "### 1.5 Output computation\n",
    "\n",
    "The idea is for a player to provide a score between [0-100] based on the scores for each of the precision of the output facts.\n",
    "\n",
    "For each possible output fact, we need to get the degree of membership of the player (this is the computed precision of the corresponding output fact) to each of the defined membership functions"
   ]
  },
  {
   "cell_type": "code",
   "execution_count": null,
   "id": "34a3527c",
   "metadata": {
    "scrolled": false
   },
   "outputs": [],
   "source": [
    "# Degree of membership of the player to the desired output_fact\n",
    "score_domain = np.array(range(0,101))\n",
    "output_fact = player_good\n",
    "\n",
    "# first we create the membership function over the complete domain\n",
    "membership_function = get_membership_function(score_domain, output_fact.value)\n",
    "# Now we select the precision over the whole domain \n",
    "player_output = np.where(membership_function < output_fact.precision, membership_function, output_fact.precision)\n",
    "player_output = np.where(np.isnan(membership_function), np.nan, player_output)\n",
    "\n",
    "plt.plot(score_domain, membership_function)\n",
    "plt.plot(score_domain, player_output, 'o')\n",
    "\n",
    "plt.legend([\n",
    "    \"Membership function: {}\".format(output_fact.attribute),\n",
    "    \"Player Degree of membership for function: {}\".format(output_fact.attribute),    \n",
    "])\n"
   ]
  },
  {
   "cell_type": "code",
   "execution_count": null,
   "id": "d75daf0a",
   "metadata": {},
   "outputs": [],
   "source": [
    "score_domain = np.array(range(0,101))\n",
    "\n",
    "degree_of_memberships = []\n",
    "for output_fact in [player_bad, player_normal, player_good, player_very_good]:\n",
    "    membership_function = get_membership_function(score_domain, output_fact.value)\n",
    "    player_output = np.where(membership_function < output_fact.precision, membership_function, output_fact.precision)\n",
    "    player_output = np.where(np.isnan(membership_function), np.nan, player_output)\n",
    "    degree_of_memberships.append(player_output)"
   ]
  },
  {
   "cell_type": "markdown",
   "id": "ec522f02",
   "metadata": {},
   "source": [
    "Now we have the degree of membership of the player for the different outputs."
   ]
  },
  {
   "cell_type": "code",
   "execution_count": null,
   "id": "268432f9",
   "metadata": {},
   "outputs": [],
   "source": [
    "legends = []\n",
    "for pmf, o_f in zip(degree_of_memberships,[player_bad, player_normal, player_good, player_very_good]):\n",
    "    plt.plot(score_domain, pmf)\n",
    "    legends.append([o_f.attribute])\n",
    "plt.legend(legends)    "
   ]
  },
  {
   "cell_type": "code",
   "execution_count": null,
   "id": "4dcd76c5",
   "metadata": {},
   "outputs": [],
   "source": [
    "# Aggregation of the rules\n",
    "z = np.nanmax(np.array(degree_of_memberships), axis=0)"
   ]
  },
  {
   "cell_type": "code",
   "execution_count": null,
   "id": "2c4da8b0",
   "metadata": {
    "scrolled": true
   },
   "outputs": [],
   "source": [
    "plt.plot(\n",
    "    domain_score, z, \n",
    ")"
   ]
  },
  {
   "cell_type": "code",
   "execution_count": null,
   "id": "d2a0df59",
   "metadata": {},
   "outputs": [],
   "source": [
    "final_score = np.sum(z * domain_score) / np.sum(z)"
   ]
  },
  {
   "cell_type": "code",
   "execution_count": null,
   "id": "d55c3e86",
   "metadata": {},
   "outputs": [],
   "source": [
    "print(\"For target_throws: {} and height_player: {} the final_score is: {}\".format(\n",
    "    target_throws, height_player, final_score)\n",
    ")"
   ]
  },
  {
   "cell_type": "markdown",
   "id": "26153dd3",
   "metadata": {},
   "source": [
    "#### Quantum Circuits\n",
    "\n",
    "We can visualize the different quantum circuits of each *knowledge island* in the different indetermination models."
   ]
  },
  {
   "cell_type": "code",
   "execution_count": null,
   "id": "afd16c16",
   "metadata": {},
   "outputs": [],
   "source": [
    "# The three Builders\n",
    "from neasqc_qrbs.knowledge_rep import  BuilderImpl, BuilderBayes, BuilderFuzzy"
   ]
  },
  {
   "cell_type": "code",
   "execution_count": null,
   "id": "bf0dc104",
   "metadata": {},
   "outputs": [],
   "source": [
    "builder = BuilderFuzzy"
   ]
  },
  {
   "cell_type": "code",
   "execution_count": null,
   "id": "471ab446",
   "metadata": {
    "scrolled": false
   },
   "outputs": [],
   "source": [
    "c = island_normal.build(builder)\n",
    "%qatdisplay c --svg"
   ]
  },
  {
   "cell_type": "code",
   "execution_count": null,
   "id": "0dbe0c8b",
   "metadata": {},
   "outputs": [],
   "source": [
    "c = island_good.build(builder)\n",
    "%qatdisplay c --svg"
   ]
  },
  {
   "cell_type": "code",
   "execution_count": null,
   "id": "2b2dd02f",
   "metadata": {},
   "outputs": [],
   "source": [
    "c = island_very_good.build(builder)\n",
    "%qatdisplay c --svg"
   ]
  },
  {
   "cell_type": "code",
   "execution_count": null,
   "id": "72a99c24",
   "metadata": {},
   "outputs": [],
   "source": [
    "c = island_bad.build(builder)\n",
    "%qatdisplay c --svg"
   ]
  },
  {
   "cell_type": "markdown",
   "id": "c5cc19c2",
   "metadata": {},
   "source": [
    "## 2. Complete system\n",
    "\n",
    "Now we can program the complete system as a function and we only provide the throw and the height of the player for getting a score"
   ]
  },
  {
   "cell_type": "code",
   "execution_count": null,
   "id": "14593dec",
   "metadata": {},
   "outputs": [],
   "source": [
    "def basquet_qrbs(throw, height, qpu, type_qpu=None, shots=None, model='cf'):\n",
    "    # Instantiate the QRBS\n",
    "    basket =  QRBS()\n",
    "    \n",
    "    \n",
    "    #### Initial Facts ######\n",
    "    \n",
    "    # Free throw scoring\n",
    "    throw_very_bad = basket.assert_fact(\"throw_very_bad\", \"1/0-1/3-0/7\")\n",
    "    throw_bad = basket.assert_fact(\"throw_bad\", \"0/3-1/5-1/7-0/9\")\n",
    "    throw_regular = basket.assert_fact(\"throw_regular\", \"0/7-1/10-0/13\")\n",
    "    throw_good = basket.assert_fact(\"throw_good\", \"0/11-1/13-1/15-0/17\")\n",
    "    throw_very_good = basket.assert_fact(\"throw_very_good\", \"0/15-1/17-1/20\")\n",
    "    \n",
    "    # height scoring\n",
    "    height_very_small = basket.assert_fact(\"height_very_small\", \"1/150-1/170-0/180\")\n",
    "    height_small = basket.assert_fact(\"height_small\", \"0/170-1/175-1/180-0/185\")\n",
    "    height_normal = basket.assert_fact(\"height_normal\", \"0/180-1/190-0/195\")\n",
    "    height_tall = basket.assert_fact(\"height_tall\", \"0/190-1/195-1/205-0/210\")\n",
    "    height_very_tall = basket.assert_fact(\"height_very_tall\", \"0/200-1/210-1/250\")  \n",
    "    \n",
    "    # player score\n",
    "    player_bad = basket.assert_fact(\"player_bad\", \"1/0-0/1\")\n",
    "    player_normal = basket.assert_fact(\"player_normal\", \"1/0-1/25-0/40\")\n",
    "    player_good = basket.assert_fact(\"player_good\", \"0/25-1/40-1/60-0/75\")\n",
    "    player_very_good = basket.assert_fact(\"player_very_good\", \"0/60-1/75-1/100\")   \n",
    "    \n",
    "    output = [player_bad, player_normal, player_good, player_very_good]\n",
    "    \n",
    "         \n",
    "    ###### RULES ######\n",
    "    \n",
    "    rule_certainty = 0.8\n",
    "    \n",
    "    # Rule for normal player\n",
    "    normal_0 = AndOperator(height_normal, throw_good)\n",
    "    normal_1 = AndOperator(height_normal, throw_very_good)\n",
    "    normal_2 = AndOperator(height_tall, throw_regular)\n",
    "    normal_3 = AndOperator(height_very_tall, throw_regular)\n",
    "    normal_f = OrOperator(\n",
    "        OrOperator(\n",
    "            OrOperator(normal_0, normal_1),\n",
    "            normal_2),\n",
    "        normal_3)\n",
    "\n",
    "    rule_1 = basket.assert_rule(normal_f, player_normal, rule_certainty)    \n",
    "    \n",
    "    # Rule for good player\n",
    "    rule_2 = basket.assert_rule(\n",
    "        OrOperator(\n",
    "            AndOperator(height_tall, throw_good),\n",
    "            AndOperator(height_very_tall, throw_good)\n",
    "        ),\n",
    "        player_good,\n",
    "        rule_certainty\n",
    "    )    \n",
    "    # Rule for very good player\n",
    "    rule_3 = basket.assert_rule(\n",
    "        OrOperator(\n",
    "            AndOperator(height_tall, throw_very_good),\n",
    "            AndOperator(height_very_tall, throw_very_good)\n",
    "        ),\n",
    "        player_very_good,\n",
    "        rule_certainty\n",
    "    )     \n",
    "    \n",
    "    # Rules for Bad player\n",
    "\n",
    "    throw_bad_player = basket.assert_fact(\"player_bad_throw\", \"player with bad throw\")\n",
    "    rule_4 = basket.assert_rule(\n",
    "        OrOperator(throw_very_bad, throw_bad),\n",
    "        throw_bad_player,\n",
    "        rule_certainty\n",
    "    )\n",
    "\n",
    "    small_player = basket.assert_fact(\"small_player\", \"player too small\")\n",
    "    rule_5 = basket.assert_rule(\n",
    "        OrOperator(height_very_small, height_small),\n",
    "        small_player,\n",
    "        rule_certainty\n",
    "    )\n",
    "\n",
    "    normal_regular = basket.assert_fact(\"normal_regular\", \"Normal height and regular throw\")\n",
    "    rule_6 = basket.assert_rule(\n",
    "        AndOperator(height_normal, throw_regular),\n",
    "        normal_regular,\n",
    "        rule_certainty\n",
    "    )\n",
    "\n",
    "    rule_bad_player = basket.assert_rule(\n",
    "        OrOperator(\n",
    "            OrOperator(throw_bad_player, small_player),\n",
    "            normal_regular\n",
    "        ),\n",
    "        player_bad,\n",
    "        rule_certainty\n",
    "    ) \n",
    "    \n",
    "    \n",
    "    ####### KNOWLEDGE iSLANDS ################\n",
    "    \n",
    "    island_normal = basket.assert_island([rule_1])\n",
    "    island_good = basket.assert_island([rule_2])\n",
    "    island_very_good = basket.assert_island([rule_3])\n",
    "    island_bad = basket.assert_island([rule_4, rule_5, rule_6, rule_bad_player])   \n",
    "    \n",
    "    \n",
    "    ####### LOADING DATA #########################\n",
    "    \n",
    "    \n",
    "    # Score data\n",
    "    list_score = [throw_very_bad, throw_bad, throw_regular, throw_good, throw_very_good]\n",
    "    # print([fact.precision for fact in list_score])\n",
    "    \n",
    "    \n",
    "    for fact in list_score:\n",
    "        fact.precision = degree_of_membership(throw, fact.value)      \n",
    "    # print([fact.precision for fact in list_score])\n",
    "    \n",
    "    \n",
    "    # Height data\n",
    "    # Asigning the precision of the facts\n",
    "    list_height = [height_very_small, height_small, height_normal, height_tall, height_very_tall]\n",
    "    # print([fact.precision for fact in list_height])\n",
    "    for fact in list_height:\n",
    "        fact.precision = degree_of_membership(height, fact.value)\n",
    "    # print([fact.precision for fact in list_height])\n",
    "        \n",
    "    # Inference Execution\n",
    "    qpu.execute(basket, qpu=type_qpu, shots=shots, model=model)\n",
    "    \n",
    "    # Output post processing\n",
    "    #output_precision = [fact.precision for fact in output]\n",
    "    additional_info = [throw_bad_player, small_player, normal_regular]\n",
    "    \n",
    "    score_domain = np.array(range(0,101))\n",
    "\n",
    "    # Computing degree of membership for each output fact for the input player\n",
    "    degree_of_memberships = []\n",
    "    for output_fact in output:\n",
    "        membership_function = get_membership_function(score_domain, output_fact.value)\n",
    "        player_output = np.where(membership_function < output_fact.precision, membership_function, output_fact.precision)\n",
    "        player_output = np.where(np.isnan(membership_function), np.nan, player_output)\n",
    "        degree_of_memberships.append(player_output)    \n",
    "    # Aggregation of the rules\n",
    "    z = np.nanmax(np.array(degree_of_memberships), axis=0)\n",
    "    # Final score\n",
    "    final_score = np.sum(z * score_domain) / np.sum(z)\n",
    "    \n",
    "    \n",
    "    output_dict = {\n",
    "        \"output_facts\" : output,\n",
    "        \"additional_facts\" : additional_info,\n",
    "        \"degree_of_memberships\": degree_of_memberships,\n",
    "        \"z\": z,\n",
    "        \"final_score\":final_score\n",
    "    }\n",
    "    \n",
    "    return output_dict"
   ]
  },
  {
   "cell_type": "code",
   "execution_count": null,
   "id": "22b15aa4",
   "metadata": {},
   "outputs": [],
   "source": [
    "target_throws = 16 # of 20\n",
    "height_player = 198 #cm\n",
    "shots = 0 \n",
    "model = \"cf\"\n",
    "\n",
    "score = basquet_qrbs(\n",
    "    target_throws, \n",
    "    height_player,\n",
    "    qpu_selected,\n",
    "    type_qpu=qpu,\n",
    "    shots=shots,\n",
    "    model=model\n",
    ")"
   ]
  },
  {
   "cell_type": "code",
   "execution_count": null,
   "id": "56fff793",
   "metadata": {},
   "outputs": [],
   "source": [
    "score['output_facts'][0].attribute"
   ]
  },
  {
   "cell_type": "code",
   "execution_count": null,
   "id": "7690f1a2",
   "metadata": {},
   "outputs": [],
   "source": [
    "# Degree of mebership of the player to the different output facts\n",
    "for fact in score[\"output_facts\"]:\n",
    "    print(fact.attribute, \": \",  str(fact.precision))"
   ]
  },
  {
   "cell_type": "code",
   "execution_count": null,
   "id": "9002d3b3",
   "metadata": {},
   "outputs": [],
   "source": [
    "# Score function of the player\n",
    "plt.plot(score[\"z\"])\n",
    "plt.xlabel(\"final score\")\n",
    "plt.ylabel(\"Z function\")"
   ]
  },
  {
   "cell_type": "code",
   "execution_count": null,
   "id": "f5837687",
   "metadata": {},
   "outputs": [],
   "source": [
    "print(\"For target_throws: {} and height_player: {} the final_score is: {}\".format(\n",
    "    target_throws, height_player, score[\"final_score\"])\n",
    ")"
   ]
  },
  {
   "cell_type": "markdown",
   "id": "60a1ac58",
   "metadata": {},
   "source": [
    "#### Some testing\n",
    "\n",
    "We are going to test the implementation for different fixed inputs."
   ]
  },
  {
   "cell_type": "code",
   "execution_count": null,
   "id": "e9c425bc",
   "metadata": {
    "scrolled": true
   },
   "outputs": [],
   "source": [
    "def get_pdf_facts(input_dict):\n",
    "\n",
    "    fact_dict = []\n",
    "    for p in input_dict:\n",
    "        fact_dict.append([r.precision for r in p[\"output_facts\"]])\n",
    "    facts_ = pd.DataFrame(\n",
    "        fact_dict,\n",
    "        columns=[i.attribute for i in input_dict[0][\"output_facts\"] ]\n",
    "    )\n",
    "\n",
    "    fact_dict = []\n",
    "    for p in input_dict:\n",
    "        fact_dict.append([r.precision for r in p[\"additional_facts\"]])\n",
    "\n",
    "    add_facts_ = pd.DataFrame(\n",
    "        fact_dict,\n",
    "        columns=[i.attribute for i in input_dict[0][\"additional_facts\"] ]\n",
    "    )   \n",
    "\n",
    "    pdf = pd.concat([facts_, add_facts_], axis=1)\n",
    "    return pdf\n"
   ]
  },
  {
   "cell_type": "markdown",
   "id": "407700be",
   "metadata": {},
   "source": [
    "#### Input Bad player: bad shooter\n",
    "\n",
    "Bad shooters will have lees than 8 target throws!!\n",
    "\n",
    "For all these cases the **player_bad** should have a precision near to 1.0. Additionally, the additional fact **player_bad_throw** should have a precision near 1.0"
   ]
  },
  {
   "cell_type": "code",
   "execution_count": null,
   "id": "a354d3c2",
   "metadata": {
    "scrolled": false
   },
   "outputs": [],
   "source": [
    "# Bad player because of throws\n",
    "\n",
    "#domain = range(6,9)\n",
    "#domain = range(0,5)\n",
    "domain = range(0,8)\n",
    "\n",
    "bad_player_bad_throws= [basquet_qrbs(\n",
    "    i, 210, qpu_selected, type_qpu=qpu, shots=0, model='cf') for i in domain]\n",
    "\n",
    "pdf = get_pdf_facts(bad_player_bad_throws)\n",
    "pdf[\"Throws\"] = domain\n",
    "pdf"
   ]
  },
  {
   "cell_type": "markdown",
   "id": "1da048f3",
   "metadata": {},
   "source": [
    "#### Input Bad player: not tall enough\n",
    "\n",
    "players with heights lower than 180 are bad players too.\n",
    "\n",
    "For this case, the fact *player_bad* should have a precision near to 1.0. The additional fact *small_player* should have a precision near to 1.0"
   ]
  },
  {
   "cell_type": "code",
   "execution_count": null,
   "id": "2a2953df",
   "metadata": {
    "scrolled": true
   },
   "outputs": [],
   "source": [
    "# Bad player because of height\n",
    "\n",
    "#domain = [150, 160, 170, 175, 180]\n",
    "domain = range(150, 180, 1)\n",
    "#domain = range(176, 185, 2)\n",
    "\n",
    "bad_player_not_tall = [\n",
    "    basquet_qrbs(20, i, qpu_selected, type_qpu=qpu, shots=0, model='cf') \n",
    "    for i in domain\n",
    "]\n",
    "\n",
    "pdf = get_pdf_facts(bad_player_not_tall)\n",
    "pdf[\"Throws\"] = domain\n",
    "pdf"
   ]
  },
  {
   "cell_type": "code",
   "execution_count": null,
   "id": "64017b29",
   "metadata": {},
   "outputs": [],
   "source": [
    "# Normal Player\n",
    "\n",
    "throws = [10, 10, 13, 17]\n",
    "heights = [195, 210, 190, 190]\n",
    "\n",
    "\n",
    "normal_player = [\n",
    "    basquet_qrbs(t, h, qpu_selected, type_qpu=qpu, shots=0, model='fuzzy') for t, h in zip(throws, heights)\n",
    "]\n",
    "\n",
    "pdf = get_pdf_facts(normal_player)\n",
    "\n",
    "pdf[\"Throws\"] = throws\n",
    "pdf[\"Heights\"] = heights\n",
    "pdf"
   ]
  },
  {
   "cell_type": "code",
   "execution_count": null,
   "id": "f2666f22",
   "metadata": {},
   "outputs": [],
   "source": [
    "# Good Player\n",
    "\n",
    "\n",
    "throws = [13, 14, 15]\n",
    "heights = [195, 200, 205]\n",
    "\n",
    "good_player = [\n",
    "    basquet_qrbs(t, h, qpu_selected, type_qpu=qpu, shots=0, model='fuzzy') for t, h in zip(throws, heights)\n",
    "]\n",
    "\n",
    "pdf = get_pdf_facts(good_player)\n",
    "\n",
    "pdf[\"Throws\"] = throws\n",
    "pdf[\"Heights\"] = heights\n",
    "pdf\n"
   ]
  },
  {
   "cell_type": "code",
   "execution_count": null,
   "id": "c49bced6",
   "metadata": {},
   "outputs": [],
   "source": [
    "# Very Good Player\n",
    "\n",
    "throws = [17, 18, 16]\n",
    "heights = [195, 205, 210]\n",
    "\n",
    "\n",
    "v_good_player = [\n",
    "    basquet_qrbs(t, h, qpu_selected, type_qpu=qpu, shots=0, model='fuzzy') for t, h in zip(throws, heights)\n",
    "]\n",
    "\n",
    "pdf = get_pdf_facts(v_good_player)\n",
    "\n",
    "pdf[\"Throws\"] = throws\n",
    "pdf[\"Heights\"] = heights\n",
    "pdf"
   ]
  },
  {
   "cell_type": "markdown",
   "id": "85bc922c",
   "metadata": {},
   "source": [
    "### Player Evaluation Time!!"
   ]
  },
  {
   "cell_type": "code",
   "execution_count": null,
   "id": "884498a4",
   "metadata": {},
   "outputs": [],
   "source": [
    "Name = [\"Elias\", \"Blas\", \"Luis\", \"Juan\", \"Raul\", \"Cholo\", \"Zalo\"]\n",
    "Throws = [16, 17, 17, 15, 18, 18, 18]\n",
    "Heights = [198, 193, 188, 203, 176, 186, 200]"
   ]
  },
  {
   "cell_type": "code",
   "execution_count": null,
   "id": "c1196274",
   "metadata": {},
   "outputs": [],
   "source": [
    "player_evaluation = [\n",
    "    basquet_qrbs(t, h, qpu_selected, type_qpu=qpu, shots=0, model='cf') for t, h in zip(Throws, Heights)\n",
    "]\n",
    "list_ = [[n, t, h, p[\"final_score\"]] for n, t, h, p in zip(Name, Throws, Heights, player_evaluation)]\n",
    "\n",
    "pdf = pd.DataFrame(\n",
    "    list_,\n",
    "    columns = [\"Name\", \"Throws\", \"Height\", \"Final_Score\"]\n",
    ")\n",
    "pdf.sort_values([\"Final_Score\"], ascending=False)"
   ]
  },
  {
   "cell_type": "code",
   "execution_count": null,
   "id": "6afc9827",
   "metadata": {},
   "outputs": [],
   "source": [
    "player_evaluation = [\n",
    "    basquet_qrbs(t, h, qpu_selected, type_qpu=qpu, shots=100, model='cf') for t, h in zip(Throws, Heights)\n",
    "]\n",
    "list_ = [[n, t, h, p[\"final_score\"]] for n, t, h, p in zip(Name, Throws, Heights, player_evaluation)]\n",
    "\n",
    "pdf = pd.DataFrame(\n",
    "    list_,\n",
    "    columns = [\"Name\", \"Throws\", \"Height\", \"Final_Score\"]\n",
    ")\n",
    "#pdf.sort_values([\"Final_Score\"], ascending=False)\n",
    "pdf"
   ]
  },
  {
   "cell_type": "code",
   "execution_count": null,
   "id": "bcea900f",
   "metadata": {
    "scrolled": false
   },
   "outputs": [],
   "source": [
    "for p in player_evaluation:\n",
    "    plt.plot(p[\"z\"])\n",
    "plt.legend(list(pdf[\"Name\"]))"
   ]
  },
  {
   "cell_type": "code",
   "execution_count": null,
   "id": "ca5ea44b",
   "metadata": {},
   "outputs": [],
   "source": [
    "[(i.attribute, i.precision) for i in  player_evaluation[1][\"output_facts\"]]"
   ]
  },
  {
   "cell_type": "code",
   "execution_count": null,
   "id": "5bd451fe",
   "metadata": {},
   "outputs": [],
   "source": [
    "[(i.attribute, i.precision) for i in  player_evaluation[3][\"output_facts\"]]"
   ]
  },
  {
   "cell_type": "code",
   "execution_count": null,
   "id": "a44f663c",
   "metadata": {},
   "outputs": [],
   "source": [
    "pdf_ = get_pdf_facts(player_evaluation)\n",
    "pdf_[\"Throws\"] = Throws\n",
    "pdf_[\"Heights\"] = Heights\n",
    "pdf_[\"Name\"] = Name\n",
    "pdf_"
   ]
  },
  {
   "cell_type": "markdown",
   "id": "0e8e58d6",
   "metadata": {},
   "source": [
    "We can use different engines for computing the imprecision."
   ]
  },
  {
   "cell_type": "code",
   "execution_count": null,
   "id": "aaf76c2d",
   "metadata": {},
   "outputs": [],
   "source": [
    "player_evaluation = [\n",
    "    basquet_qrbs(t, h, qpu_selected, type_qpu=qpu, shots=0, model='fuzzy') for t, h in zip(Throws, Heights)\n",
    "]\n",
    "list_ = [[n, t, h, p[\"final_score\"]] for n, t, h, p in zip(Name, Throws, Heights, player_evaluation)]\n",
    "\n",
    "pdf = pd.DataFrame(\n",
    "    list_,\n",
    "    columns = [\"Name\", \"Throws\", \"Height\", \"Final_Score\"]\n",
    ")\n",
    "pdf.sort_values([\"Final_Score\"], ascending=False)"
   ]
  },
  {
   "cell_type": "code",
   "execution_count": null,
   "id": "9574e43f",
   "metadata": {},
   "outputs": [],
   "source": [
    "pdf_ = get_pdf_facts(player_evaluation)\n",
    "pdf_[\"Throws\"] = Throws\n",
    "pdf_[\"Heights\"] = Heights\n",
    "pdf_[\"Name\"] = Name\n",
    "pdf_"
   ]
  },
  {
   "cell_type": "code",
   "execution_count": null,
   "id": "b0c7afce",
   "metadata": {},
   "outputs": [],
   "source": [
    "player_evaluation = [\n",
    "    basquet_qrbs(t, h, qpu_selected, type_qpu=qpu, shots=0, model='bayes') for t, h in zip(Throws, Heights)\n",
    "]\n",
    "list_ = [[n, t, h, p[\"final_score\"]] for n, t, h, p in zip(Name, Throws, Heights, player_evaluation)]\n",
    "\n",
    "pdf = pd.DataFrame(\n",
    "    list_,\n",
    "    columns = [\"Name\", \"Throws\", \"Height\", \"Final_Score\"]\n",
    ")\n",
    "pdf.sort_values([\"Final_Score\"], ascending=False)"
   ]
  },
  {
   "cell_type": "code",
   "execution_count": null,
   "id": "1a58c92b",
   "metadata": {},
   "outputs": [],
   "source": [
    "pdf_ = get_pdf_facts(player_evaluation)\n",
    "pdf_[\"Throws\"] = Throws\n",
    "pdf_[\"Heights\"] = Heights\n",
    "pdf_[\"Name\"] = Name\n",
    "pdf_"
   ]
  },
  {
   "cell_type": "code",
   "execution_count": null,
   "id": "3502e55c",
   "metadata": {},
   "outputs": [],
   "source": []
  }
 ],
 "metadata": {
  "kernelspec": {
   "display_name": "Python 3 (ipykernel)",
   "language": "python",
   "name": "python3"
  },
  "language_info": {
   "codemirror_mode": {
    "name": "ipython",
    "version": 3
   },
   "file_extension": ".py",
   "mimetype": "text/x-python",
   "name": "python",
   "nbconvert_exporter": "python",
   "pygments_lexer": "ipython3",
   "version": "3.9.9"
  }
 },
 "nbformat": 4,
 "nbformat_minor": 5
}
