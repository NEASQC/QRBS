{
 "cells": [
  {
   "cell_type": "markdown",
   "id": "09a317e6-5d73-46ca-a31b-7dbb022cb480",
   "metadata": {},
   "source": [
    "# Basket QRBS with Noise\n",
    "\n",
    "En este Notebook hago pruebas del QRBS del baloncesto (basquet_qrbs.py) para preparar las simulaciones ruidosas"
   ]
  },
  {
   "cell_type": "code",
   "execution_count": null,
   "id": "fac4954a",
   "metadata": {
    "tags": []
   },
   "outputs": [],
   "source": [
    "import sys\n",
    "sys.path.append(\"../\")\n",
    "import itertools as it\n",
    "import pandas as pd\n",
    "import numpy as np\n",
    "from qat.core import Job, Batch"
   ]
  },
  {
   "cell_type": "code",
   "execution_count": null,
   "id": "f1febc93",
   "metadata": {
    "tags": []
   },
   "outputs": [],
   "source": [
    "from selectable_qpu import SelectableQPU\n",
    "qpu_selected = SelectableQPU()"
   ]
  },
  {
   "cell_type": "code",
   "execution_count": null,
   "id": "94feb287",
   "metadata": {
    "tags": []
   },
   "outputs": [],
   "source": [
    "# myQLM qpus\n",
    "from qpu.select_qpu import select_qpu\n",
    "from qpu.benchmark_utils import combination_for_list\n",
    "# List with the strings that should be provided for an ideal QPU\n",
    "ideal_qpus = [\"c\", \"python\", \"linalg\", \"mps\", \"qlmass_linalg\", \"qlmass_mps\"]\n",
    "qpu_config_c = {\n",
    "    \"qpu_type\": ideal_qpus[2], \n",
    "}\n",
    "ideal_qpu = select_qpu(qpu_config_c)"
   ]
  },
  {
   "cell_type": "code",
   "execution_count": null,
   "id": "31c969ae",
   "metadata": {
    "tags": []
   },
   "outputs": [],
   "source": [
    "from basket import basquet_qrbs"
   ]
  },
  {
   "cell_type": "markdown",
   "id": "a1711007-c27f-41a9-b228-98d60e11a7ed",
   "metadata": {},
   "source": [
    "Los jugadores que voy a usar"
   ]
  },
  {
   "cell_type": "code",
   "execution_count": null,
   "id": "021bac27",
   "metadata": {
    "tags": []
   },
   "outputs": [],
   "source": [
    "Name = [\"Elias\", \"Blas\", \"Luis\", \"Juan\", \"Raul\", \"Cholo\"]\n",
    "Throws = [16, 17, 17, 15, 18, 18]\n",
    "Heights = [198, 193, 188, 203, 176, 186]"
   ]
  },
  {
   "cell_type": "markdown",
   "id": "f3d7963d-3646-4d1d-8273-d56d8d938302",
   "metadata": {},
   "source": [
    "## 0. Compruebo CRY\n",
    "\n",
    "En el módulo **neasqc_qrbs/knowledge_rep.py** se implementó manualmente la puerta controlada $R_y$. Esta implementación nos da problemas al aplicar la reescritura de circuitos y los modelos de ruidos. He realizado un cambio utilizando la implementación nativa. Este código permite comprobar que ambas implementaciones son correctas (Hay que cambiar la línea correspondiente en **neasqc_qrbs/knowledge_rep.py** y re ejecutar para poder comparar resultados) "
   ]
  },
  {
   "cell_type": "code",
   "execution_count": null,
   "id": "eecca814-4425-4344-b689-7bfb70395cec",
   "metadata": {
    "tags": []
   },
   "outputs": [],
   "source": [
    "model = \"bayes\"\n",
    "player_evaluation_ideal = [\n",
    "    basquet_qrbs(t, h, qpu_selected, type_qpu=ideal_qpu, shots=0, model=model) for t, h in zip(Throws, Heights)\n",
    "]\n",
    "pdf_ideal = [[n, t, h, p[\"final_score\"]] for n, t, h, p in zip(Name, Throws, Heights, player_evaluation_ideal)]\n",
    "pdf_ideal = pd.DataFrame(\n",
    "    pdf_ideal,\n",
    "    columns = [\"Name\", \"Throws\", \"Height\", \"Final_Score\"]\n",
    ")\n",
    "pdf_ideal.sort_values([\"Final_Score\"], ascending=False, inplace=True)\n"
   ]
  },
  {
   "cell_type": "code",
   "execution_count": null,
   "id": "373a7893-d2a9-4f8d-ad16-6591d36a9f20",
   "metadata": {
    "tags": []
   },
   "outputs": [],
   "source": [
    "pdf_ideal.to_html().replace(\"\\n\", \"\")"
   ]
  },
  {
   "cell_type": "markdown",
   "id": "52aa6928-29d7-47d7-a152-a8d686eb58a4",
   "metadata": {},
   "source": [
    "### CRY\n",
    "\n",
    "<table border=\"1\" class=\"dataframe\">  <thead>    <tr style=\"text-align: right;\">      <th></th>      <th>Name</th>      <th>Throws</th>      <th>Height</th>      <th>Final_Score</th>    </tr>  </thead>  <tbody>    <tr>      <th>0</th>      <td>Elias</td>      <td>16</td>      <td>198</td>      <td>64.425626</td>    </tr>    <tr>      <th>1</th>      <td>Blas</td>      <td>17</td>      <td>193</td>      <td>59.527263</td>    </tr>    <tr>      <th>3</th>      <td>Juan</td>      <td>15</td>      <td>203</td>      <td>54.896615</td>    </tr>    <tr>      <th>5</th>      <td>Cholo</td>      <td>18</td>      <td>186</td>      <td>17.617664</td>    </tr>    <tr>      <th>2</th>      <td>Luis</td>      <td>17</td>      <td>188</td>      <td>16.860870</td>    </tr>    <tr>      <th>4</th>      <td>Raul</td>      <td>18</td>      <td>176</td>      <td>0.000000</td>    </tr>  </tbody></table>\n",
    "\n",
    "### CRY using qlm\n",
    "\n",
    "<table border=\"1\" class=\"dataframe\">  <thead>    <tr style=\"text-align: right;\">      <th></th>      <th>Name</th>      <th>Throws</th>      <th>Height</th>      <th>Final_Score</th>    </tr>  </thead>  <tbody>    <tr>      <th>0</th>      <td>Elias</td>      <td>16</td>      <td>198</td>      <td>64.425626</td>    </tr>    <tr>      <th>1</th>      <td>Blas</td>      <td>17</td>      <td>193</td>      <td>59.527263</td>    </tr>    <tr>      <th>3</th>      <td>Juan</td>      <td>15</td>      <td>203</td>      <td>54.896615</td>    </tr>    <tr>      <th>5</th>      <td>Cholo</td>      <td>18</td>      <td>186</td>      <td>17.617664</td>    </tr>    <tr>      <th>2</th>      <td>Luis</td>      <td>17</td>      <td>188</td>      <td>16.860870</td>    </tr>    <tr>      <th>4</th>      <td>Raul</td>      <td>18</td>      <td>176</td>      <td>0.000000</td>    </tr>  </tbody></table>"
   ]
  },
  {
   "cell_type": "markdown",
   "id": "70dd1dab-5ff4-4eca-a2c1-03a182056656",
   "metadata": {
    "tags": []
   },
   "source": [
    "## 1. Solución Ideal\n",
    "\n",
    "Crea la solución con la que se debe comparar. Este código ejecuta el circuito tal cual sale del código sin optimizaciones ni re escrituras"
   ]
  },
  {
   "cell_type": "code",
   "execution_count": null,
   "id": "f0920dbe",
   "metadata": {
    "tags": []
   },
   "outputs": [],
   "source": [
    "final_model_ideal = []\n",
    "for model in [\"cf\", \"fuzzy\", \"bayes\"]:\n",
    "\n",
    "    player_evaluation_ideal = [\n",
    "        basquet_qrbs(t, h, qpu_selected, type_qpu=ideal_qpu, shots=0, model=model) for t, h in zip(Throws, Heights)\n",
    "    ]\n",
    "    pdf_ideal = [[n, t, h, p[\"final_score\"]] for n, t, h, p in zip(Name, Throws, Heights, player_evaluation_ideal)]\n",
    "    pdf_ideal = pd.DataFrame(\n",
    "        pdf_ideal,\n",
    "        columns = [\"Name\", \"Throws\", \"Height\", \"Final_Score\"]\n",
    "    )\n",
    "    pdf_ideal.sort_values([\"Final_Score\"], ascending=False, inplace=True)\n",
    "    final_model_ideal.append(pdf_ideal)"
   ]
  },
  {
   "cell_type": "markdown",
   "id": "8a3c8390-78fc-4ee4-bd96-d1ece9d5ecc5",
   "metadata": {},
   "source": [
    "Se comprueba que los 3 modelos  (**CF**, **FUZZY** y **BAYES**) den lo mismo"
   ]
  },
  {
   "cell_type": "code",
   "execution_count": null,
   "id": "c336031a-0751-47cd-b38b-fe63dcdaf150",
   "metadata": {
    "tags": []
   },
   "outputs": [],
   "source": [
    "np.isclose(final_model_ideal[0][\"Final_Score\"], final_model_ideal[1][\"Final_Score\"] )"
   ]
  },
  {
   "cell_type": "code",
   "execution_count": null,
   "id": "894c3e76-0fdf-48f0-a2f1-8688968724e4",
   "metadata": {
    "tags": []
   },
   "outputs": [],
   "source": [
    "np.isclose(final_model_ideal[0][\"Final_Score\"], final_model_ideal[2][\"Final_Score\"] )"
   ]
  },
  {
   "cell_type": "code",
   "execution_count": null,
   "id": "bce996df-f0bc-4bfb-96cc-14a5a646c408",
   "metadata": {
    "tags": []
   },
   "outputs": [],
   "source": [
    "final_model_ideal[0]"
   ]
  },
  {
   "cell_type": "markdown",
   "id": "aac72f27-d015-4cff-a400-750b333fc18f",
   "metadata": {},
   "source": [
    "## 2.Circuit Rewriting\n",
    "\n",
    "Con el código en esta sección queremos comprobar que las rescrituras del circuito dan exactamente lo mismo que el circuito original). \n",
    "\n",
    "La simulación es ideal pero los circuitos se rescribe utilizando:\n",
    "* KAKCOMPRESION\n",
    "* EXPANSION_COLLECTION"
   ]
  },
  {
   "cell_type": "code",
   "execution_count": null,
   "id": "f32d3462-3239-4fb4-9494-4aa47d2fbf33",
   "metadata": {
    "tags": []
   },
   "outputs": [],
   "source": [
    "rewriter_qpu = [{\n",
    "    \"qpu_type\": [\"ideal\"],\n",
    "    \"kak_compiler\" : [\"ZXZ\"],\n",
    "    \"qpu_name\" : [\"ideal\"],\n",
    "    \"t_gate_1qb\" : [None],\n",
    "    \"t_gate_2qbs\" : [None],\n",
    "    \"t_readout\": [None],\n",
    "    \"sim_method\" : [\n",
    "        {\n",
    "        \"sim_method\": \"deterministic\",\n",
    "        \"n_samples\" : None,\n",
    "        \"bond_dimension\": None\n",
    "        },\n",
    "        {\n",
    "        \"sim_method\": \"stochastic\",\n",
    "        \"n_samples\" : 100, \n",
    "        \"bond_dimension\": None            \n",
    "        },\n",
    "        {\n",
    "        \"sim_method\": \"mpo\",\n",
    "        \"n_samples\" : None,\n",
    "        \"bond_dimension\": 16\n",
    "        },        \n",
    "    ],\n",
    "    \"n_samples\" : [1000],\n",
    "    \"depol_channel\" : [{\n",
    "        \"active\": False,\n",
    "        \"error_gate_1qb\" : None,\n",
    "        \"error_gate_2qbs\" : None\n",
    "    }],\n",
    "    \"idle\" : [{\n",
    "        \"amplitude_damping\": False,\n",
    "        \"dephasing_channel\": False,\n",
    "        \"t1\" : None,\n",
    "        \"t2\" : None\n",
    "    }],\n",
    "    \"meas\": [{\n",
    "        \"active\":False,\n",
    "        \"readout_error\": None\n",
    "    }]\n",
    "}]\n",
    "ideal_rewriter = combination_for_list(rewriter_qpu)\n",
    "ideal_rewriter_qpu = select_qpu(ideal_rewriter[0])"
   ]
  },
  {
   "cell_type": "code",
   "execution_count": null,
   "id": "5c74481e-6850-4e97-93f4-67a1f7d24427",
   "metadata": {
    "tags": []
   },
   "outputs": [],
   "source": [
    "final_model_rewriter = []\n",
    "for model in [\"cf\", \"fuzzy\", \"bayes\"]:\n",
    "    player_evaluation_ideal_rewriter = [\n",
    "        basquet_qrbs(t, h, qpu_selected, type_qpu=ideal_rewriter_qpu, shots=0, model=model) for t, h in zip(Throws, Heights)\n",
    "    ]\n",
    "    pdf_ideal_rewriter = [[n, t, h, p[\"final_score\"]] for n, t, h, p in zip(Name, Throws, Heights, player_evaluation_ideal_rewriter)]\n",
    "    pdf_ideal_rewriter = pd.DataFrame(\n",
    "        pdf_ideal_rewriter,\n",
    "        columns = [\"Name\", \"Throws\", \"Height\", \"Final_Score\"]\n",
    "    )\n",
    "    pdf_ideal_rewriter.sort_values([\"Final_Score\"], ascending=False, inplace=True)\n",
    "    \n",
    "    final_model_rewriter.append(pdf_ideal_rewriter)"
   ]
  },
  {
   "cell_type": "markdown",
   "id": "484accd0-1c0b-4dc8-a135-e6fa33717a6c",
   "metadata": {},
   "source": [
    "Compara las soluciones"
   ]
  },
  {
   "cell_type": "code",
   "execution_count": null,
   "id": "94b44b48-2e32-4891-8e1d-ba55bd9c2dbf",
   "metadata": {
    "tags": []
   },
   "outputs": [],
   "source": [
    "for i in range(3):\n",
    "    print(np.isclose(final_model_ideal[i][\"Final_Score\"], final_model_rewriter[i][\"Final_Score\"] ))"
   ]
  },
  {
   "cell_type": "markdown",
   "id": "6826758a-1574-401e-99c0-5af00c966be7",
   "metadata": {},
   "source": [
    "### 2.1 Re escritura de circuitos\n",
    "\n",
    "Explicamos las re-escrituras que hace el sistema.\n",
    "\n",
    "Primero extraemos un circuito original cualquiera:"
   ]
  },
  {
   "cell_type": "code",
   "execution_count": null,
   "id": "74726470-410d-40d8-99c6-04394c5534f2",
   "metadata": {
    "tags": []
   },
   "outputs": [],
   "source": [
    "qrbs_id = 0\n",
    "island_id = 2\n",
    "\n",
    "#Select a builder\n",
    "model = \"bayes\"\n",
    "builder = qpu_selected.BUILDERS[model]\n",
    "\n",
    "# Get the QRBS\n",
    "basket = player_evaluation_ideal[qrbs_id][\"qrbs\"]\n",
    "# Get all the Islands of the QRBS\n",
    "islas = basket._engine._islands\n",
    "# Select an island\n",
    "isla = islas[island_id]\n",
    "#Generate circuit\n",
    "circuit = isla.build(builder)\n",
    "print(\"Initial circuit\")\n",
    "%qatdisplay circuit"
   ]
  },
  {
   "cell_type": "markdown",
   "id": "a8c2f773-41fa-43df-9891-8adb2eef3b94",
   "metadata": {
    "tags": []
   },
   "source": [
    "#### KAKCOMPRESION\n",
    "\n",
    "Esta funcionalidad agrega puertas de 1 qubit y las descompone utilizando un patrón seleccionado. Los patrones de descomposición se seleccionan de la función *list_decompositions* y pueden ser:\n",
    "* 'ions' or 'rx+': $R_Z−R_X(π/2)−R_Z−R_X(π/2)−R_Z$\n",
    "* 'ZXZ': $R_Z−R_X−R_Z$\n",
    "* 'XZX': $R_X−R_Z−R_X$\n",
    "* 'ZYZ': $R_Z−R_Y−R_Z$\n",
    "* 'u3' or 'ibm': $U3$ gate\n"
   ]
  },
  {
   "cell_type": "code",
   "execution_count": null,
   "id": "65ddeb1c-0901-47e9-99e3-6026cb1dcb6e",
   "metadata": {
    "tags": []
   },
   "outputs": [],
   "source": [
    "from qat.plugins import KAKCompression\n",
    "from qat.pbo.kak import list_decompositions"
   ]
  },
  {
   "cell_type": "code",
   "execution_count": null,
   "id": "13e84cf3-9efa-4b1e-afc7-9558210a0e77",
   "metadata": {
    "tags": []
   },
   "outputs": [],
   "source": [
    "list_decompositions()"
   ]
  },
  {
   "cell_type": "markdown",
   "id": "b1f6e0e7-23aa-41b6-ac92-c66d4c78f8b8",
   "metadata": {},
   "source": [
    "A continuación comprobamos el circuito resultante cuando se aplica la funcionalidad *KAKCompression*"
   ]
  },
  {
   "cell_type": "code",
   "execution_count": null,
   "id": "1a302952-6ab1-4e77-8f51-a9eaa001492e",
   "metadata": {
    "tags": []
   },
   "outputs": [],
   "source": [
    "batch_rew = Batch(jobs=[circuit.to_job()])\n",
    "kak_decomposition = list_decompositions()[0]\n",
    "print(kak_decomposition)\n",
    "kak_plugin = KAKCompression(decomposition=kak_decomposition)\n",
    "kak_plugin = kak_plugin | ideal_qpu\n",
    "compilation = kak_plugin.compile(batch_rew)\n",
    "compiled_circuit = compilation.jobs[0].circuit\n",
    "print(\"Compiled circuit: KAK\")\n",
    "%qatdisplay compiled_circuit"
   ]
  },
  {
   "cell_type": "markdown",
   "id": "03f8f109-10c4-4b7a-8ba0-257415ddefea",
   "metadata": {
    "tags": []
   },
   "source": [
    "#### EXPANSION_COLLECTION\n",
    "\n",
    "Sobre el circuito resultante vamos a aplicar una segunda reescritura consistente en sustitución de patrones (vamos a hacer expansion de puertas) usando los patrones de *EXPANSION_COLLECTION* y la funcionalidad *PatternManager*. \n",
    "\n",
    "La que más nos interesa realmente es la expansión de las puertas Toffoli ya que los modelos de ruidos solo los definimos para puertas de 1 y 2 qubits."
   ]
  },
  {
   "cell_type": "code",
   "execution_count": null,
   "id": "a09607da-88c6-493b-8872-101da99c8b8e",
   "metadata": {
    "tags": []
   },
   "outputs": [],
   "source": [
    "from qat.synthopline.compiler import EXPANSION_COLLECTION\n",
    "from qat.pbo.collections import INVOLUTIONS\n",
    "from qat.pbo import PatternManager"
   ]
  },
  {
   "cell_type": "markdown",
   "id": "2b1d4bf7-252e-4891-b401-a10fbc573138",
   "metadata": {},
   "source": [
    "Circuito resultante despues de aplicar la coleccion de patrones de *EXPANSION_COLLECTION*"
   ]
  },
  {
   "cell_type": "code",
   "execution_count": null,
   "id": "558eab22-883f-4f91-908c-1c5b7a315fef",
   "metadata": {
    "tags": []
   },
   "outputs": [],
   "source": [
    "batch_rew = Batch(jobs=[compiled_circuit.to_job()])\n",
    "expansion_plugin = PatternManager(collections=[EXPANSION_COLLECTION[0:1]])\n",
    "expansion_plugin = expansion_plugin | ideal_qpu\n",
    "compilation2 = expansion_plugin.compile(batch_rew)\n",
    "compiled_circuit2 = compilation2.jobs[0].circuit\n",
    "print(\"Compiled circuit: EXPANSION\")\n",
    "%qatdisplay compiled_circuit2"
   ]
  },
  {
   "cell_type": "code",
   "execution_count": null,
   "id": "054a8aee-3cf7-4ecf-a456-02911ded3612",
   "metadata": {
    "tags": []
   },
   "outputs": [],
   "source": [
    "kak_decomposition = list_decompositions()[4]\n",
    "kak_plugin = KAKCompression(decomposition=kak_decomposition)\n",
    "kak_plugin = kak_plugin | ideal_qpu\n",
    "batch_rew = Batch(jobs=[compiled_circuit2.to_job()])\n",
    "compilation3 = kak_plugin.compile(batch_rew)\n",
    "compiled_circuit3 = compilation3.jobs[0].circuit\n",
    "%qatdisplay compiled_circuit3"
   ]
  },
  {
   "cell_type": "markdown",
   "id": "e4f70696-f908-4668-bb82-38548a40d74c",
   "metadata": {},
   "source": [
    "### Todo junto\n",
    "\n",
    "Comprobamos que podemos aplicar los dos plugins de reescritura utilizados (KAKCompression y PatternManager con EXPANSION_COLLECTION)"
   ]
  },
  {
   "cell_type": "code",
   "execution_count": null,
   "id": "39f1a651-d994-4206-9993-1dc52a3b28bf",
   "metadata": {
    "tags": []
   },
   "outputs": [],
   "source": [
    "%qatdisplay circuit \n",
    "batch_rew = Batch(jobs=[circuit.to_job()])\n",
    "rewrite_circuit = ideal_rewriter_qpu.compile(batch_rew).jobs[0].circuit\n",
    "%qatdisplay rewrite_circuit "
   ]
  },
  {
   "cell_type": "markdown",
   "id": "3f46fe97-332f-4039-999f-9e649ecbc3cc",
   "metadata": {},
   "source": [
    "#### Testeo la solución\n",
    "\n",
    "Vamos a ejecutar los circuitos generados y comprobar que lo que sale es lo mismo:"
   ]
  },
  {
   "cell_type": "code",
   "execution_count": null,
   "id": "b63b6de5-0e9e-4c46-a896-8cd832126dca",
   "metadata": {
    "tags": []
   },
   "outputs": [],
   "source": [
    "EXPANSION_COLLECTION"
   ]
  },
  {
   "cell_type": "code",
   "execution_count": null,
   "id": "f8e8f5d0-d180-44c9-a286-ffadda189ce2",
   "metadata": {
    "tags": []
   },
   "outputs": [],
   "source": [
    "def proccess_qresults(result):\n",
    "    \"\"\"\n",
    "    Post Process a QLM results for creating a pandas DataFrame\n",
    "\n",
    "    Parameters\n",
    "    ----------\n",
    "\n",
    "    result : QLM results from a QLM qpu.\n",
    "        returned object from a qpu submit\n",
    "    qubits : int\n",
    "        number of qubits\n",
    "    complete : bool\n",
    "        for return the complete basis state.\n",
    "    \"\"\"\n",
    "    list_for_results = []\n",
    "    for sample in result:\n",
    "        list_for_results.append([\n",
    "            sample.state, sample.state.lsb_int, sample.probability,\n",
    "            sample.amplitude, sample.state.int,\n",
    "        ])\n",
    "\n",
    "    pdf = pd.DataFrame(\n",
    "        list_for_results,\n",
    "        columns=['States', \"Int_lsb\", \"Probability\", \"Amplitude\", \"Int\"]\n",
    "    )\n",
    "    pdf.sort_values([\"Int_lsb\"], inplace=True)\n",
    "    return pdf    "
   ]
  },
  {
   "cell_type": "code",
   "execution_count": null,
   "id": "b79f2be2-cb3d-4614-a061-6d312eee0d55",
   "metadata": {
    "tags": []
   },
   "outputs": [],
   "source": [
    "%qatdisplay circuit \n",
    "\n",
    "job_0 = circuit.to_circ().to_job(nbshots=0)\n",
    "result_job0 = ideal_qpu.submit(job_0)\n",
    "result_job0 = proccess_qresults(result_job0)"
   ]
  },
  {
   "cell_type": "code",
   "execution_count": null,
   "id": "279bc378-3850-40fe-915c-457599ca9c61",
   "metadata": {
    "tags": []
   },
   "outputs": [],
   "source": [
    "%qatdisplay rewrite_circuit \n",
    "\n",
    "job_1 = rewrite_circuit.to_job(nbshots=0)\n",
    "result_job1 = ideal_qpu.submit(job_1)\n",
    "result_job1 = proccess_qresults(result_job1)"
   ]
  },
  {
   "cell_type": "code",
   "execution_count": null,
   "id": "a87fe1cb-8c1e-45d5-8ebc-2a686d6306f6",
   "metadata": {
    "tags": []
   },
   "outputs": [],
   "source": [
    "np.isclose(result_job0[\"Probability\"], result_job1[\"Probability\"])"
   ]
  },
  {
   "cell_type": "markdown",
   "id": "b611f5ea-bfc2-4c22-8e2f-93e7d6cc3eaf",
   "metadata": {},
   "source": [
    "## 3. Noisy Simulations\n",
    "\n",
    "Finalmente podemos aplicar el modelo de ruido sobre los diferentes circuitos generados. Para ello se utiliza la función *select_qpu* del módulo **qpu.select_qpu**. Esta función recibe un diccionario de configuración y genera la qpu ruidosa correspondiente que ya incluye los plugins de reescritura anteriormente descritos. "
   ]
  },
  {
   "cell_type": "code",
   "execution_count": null,
   "id": "0d75e935-558d-403b-bda6-2d64ca0c589a",
   "metadata": {
    "tags": []
   },
   "outputs": [],
   "source": [
    "import json"
   ]
  },
  {
   "cell_type": "markdown",
   "id": "e597c49e-6d8c-4812-8afd-19cea0efe46c",
   "metadata": {},
   "source": [
    "Vamos a cargar las configuraciones de un *JSON* previamente generado:"
   ]
  },
  {
   "cell_type": "code",
   "execution_count": null,
   "id": "9bb58c08-fa3d-44e3-92e3-4df48154a1f8",
   "metadata": {
    "tags": []
   },
   "outputs": [],
   "source": [
    "with open(\"qpu/qpu_noisy_deterministic.json\") as json_file:\n",
    "    noisy_cfg = json.load(json_file)\n",
    "qpu_list = combination_for_list(noisy_cfg)"
   ]
  },
  {
   "cell_type": "code",
   "execution_count": null,
   "id": "bb95345a-4f42-4307-bd67-41dd2c0f763a",
   "metadata": {
    "tags": []
   },
   "outputs": [],
   "source": [
    "len(qpu_list)"
   ]
  },
  {
   "cell_type": "markdown",
   "id": "e6ba92f5-d8c4-4d98-8b96-9a9680d4cb2d",
   "metadata": {},
   "source": [
    "El *JSON* tiene varias posibles qpus ruidosas. Debemos seleccionar una de las posibles configuraciones:"
   ]
  },
  {
   "cell_type": "code",
   "execution_count": null,
   "id": "3504bd3a-b74a-4ed1-9a38-66509056ad8c",
   "metadata": {
    "tags": []
   },
   "outputs": [],
   "source": [
    "noisy_id = -1\n",
    "noisy_qpu_cfg = qpu_list[noisy_id]\n",
    "print(noisy_qpu_cfg)"
   ]
  },
  {
   "cell_type": "markdown",
   "id": "bda40a06-16f3-4fcd-b9ca-de2aac9071db",
   "metadata": {},
   "source": [
    "Una vez seleccionado un diccionario de configuración se lo proporcionamos a la función *select_qpu* que nos devolverá una qpu convenientemente configurada:"
   ]
  },
  {
   "cell_type": "code",
   "execution_count": null,
   "id": "6c9e3639-cd04-4679-a426-cfd76f55f823",
   "metadata": {
    "tags": []
   },
   "outputs": [],
   "source": [
    "noisy_qpu = select_qpu(noisy_qpu_cfg)"
   ]
  },
  {
   "cell_type": "code",
   "execution_count": null,
   "id": "9121c60e-2ea1-4b76-820a-5a1843f78f09",
   "metadata": {
    "tags": []
   },
   "outputs": [],
   "source": [
    "print(noisy_qpu)\n",
    "# Error de las puertas de 1 qubit\n",
    "print(noisy_qpu.hardware_model.gate_noise[\"H\"].keywords[\"rb_eps\"]  == noisy_qpu_cfg[\"depol_channel\"][\"error_gate_1qb\"])\n",
    "# Error de las puertas de 2 qubits\n",
    "print(noisy_qpu.hardware_model.gate_noise[\"CNOT\"].keywords[\"rb_eps\"]  == noisy_qpu_cfg[\"depol_channel\"][\"error_gate_2qbs\"])\n",
    "# T1 para Amplitude Damping\n",
    "print(noisy_qpu.hardware_model.idle_noise[0].T_1 == noisy_qpu_cfg[\"idle\"][\"t1\"])\n",
    "# Tvarphi para Dephaising\n",
    "t_var_phi = 1.0 / (1.0/noisy_qpu_cfg[\"idle\"][\"t2\"] - 1.0/(2* noisy_qpu_cfg[\"idle\"][\"t1\"] ))\n",
    "print(noisy_qpu.hardware_model.idle_noise[1].T_phi == t_var_phi)"
   ]
  },
  {
   "cell_type": "markdown",
   "id": "b4455dcb-46e1-4ae3-ae1d-0b1733fac183",
   "metadata": {},
   "source": [
    "### ATENCIÓN!!\n",
    "\n",
    "Si usamos simulación determinista como método de simulación (*deterministic* en **sim_method** key) la simulación fallará para los modelos **CF** y **FUZZY**. En estos casos solo se puede usar simulación estocástica (*stochastic* en **sim_method** key). "
   ]
  },
  {
   "cell_type": "code",
   "execution_count": null,
   "id": "0006f9d9-8fd0-4281-96ab-ca7c4476f520",
   "metadata": {
    "tags": []
   },
   "outputs": [],
   "source": [
    "model = \"bayes\"\n",
    "shots = 0\n",
    "player_evaluation_noisy = [\n",
    "    basquet_qrbs(t, h, qpu_selected, type_qpu=noisy_qpu, shots=shots, model=model) for t, h in zip(Throws, Heights)\n",
    "]\n",
    "pdf_noisy = [[n, t, h, p] for n, t, h, p in zip(Name, Throws, Heights, player_evaluation_noisy)]\n",
    "pdf_noisy = pd.DataFrame(\n",
    "    pdf_noisy,\n",
    "    columns = [\"Name\", \"Throws\", \"Height\", \"Final_Score\"]\n",
    ")\n",
    "pdf_noisy.sort_values([\"Final_Score\"], ascending=False, inplace=True)\n",
    "pdf_noisy.reset_index(drop=True, inplace=True)\n",
    "qpu_pdf = to_pdf(noisy_qpu_cfg)\n",
    "qpu_pdf[\"shots\"] = shots\n",
    "qpu_pdf[\"model\"] = model\n",
    "qpu_pdf = pd.concat([qpu_pdf] * len(Throws))\n",
    "qpu_pdf.reset_index(drop=True, inplace=True)\n",
    "pdf = pd.concat([qpu_pdf, pdf_noisy], axis = 1)\n"
   ]
  },
  {
   "cell_type": "code",
   "execution_count": null,
   "id": "02eff976-92d1-4cf2-80de-58735110356f",
   "metadata": {},
   "outputs": [],
   "source": [
    "pdf"
   ]
  },
  {
   "cell_type": "code",
   "execution_count": null,
   "id": "6842742a-874a-4e4f-8e9d-775b82aee703",
   "metadata": {},
   "outputs": [],
   "source": []
  }
 ],
 "metadata": {
  "kernelspec": {
   "display_name": "Python 3 (ipykernel)",
   "language": "python",
   "name": "python3"
  },
  "language_info": {
   "codemirror_mode": {
    "name": "ipython",
    "version": 3
   },
   "file_extension": ".py",
   "mimetype": "text/x-python",
   "name": "python",
   "nbconvert_exporter": "python",
   "pygments_lexer": "ipython3",
   "version": "3.9.16"
  }
 },
 "nbformat": 4,
 "nbformat_minor": 5
}
