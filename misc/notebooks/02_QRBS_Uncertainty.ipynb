{
 "cells": [
  {
   "cell_type": "markdown",
   "id": "1d22b37c",
   "metadata": {},
   "source": [
    "# 2. QRBS uncertainty"
   ]
  },
  {
   "cell_type": "markdown",
   "id": "e241d0c9",
   "metadata": {},
   "source": [
    "In the *01_QRBS_for_dummies* jupyter notebook we provided the basic working of the **QRBS** library. We only focused on the categorical use of the library. The main functionality of the **QRBS** is using quantum circuits for modelling the evolution of indetermination propagating through an inferential network. In this case, the indetermination appears in two different ways:\n",
    "\n",
    "* *Imprecision of the facts*: In this case, the facts are not categorical variables. Now the facts can be affected by a degree of belief, probability or even intensity. In the **QRBS** this will be modelled by assigning a number between 0 and 1 to the precision of the facts (the attribute *precision* of the fact *class*). Some examples of imprecision can be:\n",
    "    * Rain: you can model the intensity of the rain: little rain, rains a lot ...\n",
    "    * Probability of getting a head when tossing a coin\n",
    "    * Cakes: I hate, dislike, like or love cakes...\n",
    "* *Uncertainty of the rules*: in this case, some indetermination appears when the rule is created. Again, this indetermination is modelled as a number between 0 and 1 and in the **QRBS** is associated with the *certainty* of the rule (the attribute *certainty* of the rule class). Some examples of uncertainty can be:\n",
    "    * When it rains I usually stay at home.\n",
    "    * If the arterial pH is low there is a great probability that the patient suffers from Acidemia\n",
    "\n",
    "So to add indetermination to our **QRBS** we need always set the **precision** attributes of the facts and the **certainty** attributes of the rules to a number between 0 and 1."
   ]
  },
  {
   "cell_type": "markdown",
   "id": "66f0feaf",
   "metadata": {},
   "source": [
    "To deal with the indetermination in the **QRBS** NEASQC software library three different models were implemented:\n",
    "\n",
    "1. **Certainty factors**. Proposed by Shortliffe and Buchanan in: *Shortliffe, E. H., & Buchanan, B. G. (1975). A model of inexact reasoning in medicine. Mathematical Biosciences,23(3), 351–379*. \n",
    "    * Available using the **BuilderImpl** class from **neasqc_qrbs.knowledge_rep** (or setting model to *cf* in the **execute** method of the **MyQlmQPU** object)\n",
    "2. **Fuzzy logic**: introduced by Loft A. Zadeh in: *Zadeh, L. A. (1965). Fuzzy sets. Information and Control, 8(3), 338–353*\n",
    "    * Available using the **BuilderFuzzy** class from **neasqc_qrbs.knowledge_rep** (or setting model to *fuzzy* in the **execute** method of the **MyQlmQPU** object)\n",
    "3. **Bayesian networks**: following the work from:  *Borujeni, S. E., Nannapaneni, S., Nguyen, N. H., Behrman, E. C., & Steck, J. E. (2021). Quantum circuit representation of Bayesian networks. Expert Systems with Applications, 176, 114768*\n",
    "    * Available using the **BuilderBayes** class from **neasqc_qrbs.knowledge_rep** (or setting model to *bayes* in the **execute** method of the **MyQlmQPU** object)\n",
    "In this notebook we explain how to use **QRBS** to build easy and simple rule systems, implement the associated quantum circuits and execute in a Quantum Process Unit from Eviden myQLM."
   ]
  },
  {
   "cell_type": "code",
   "execution_count": null,
   "id": "ff30b211",
   "metadata": {},
   "outputs": [],
   "source": [
    "import sys\n",
    "sys.path.append(\"../../\")"
   ]
  },
  {
   "cell_type": "markdown",
   "id": "5f868683",
   "metadata": {},
   "source": [
    "## 1.Managing indetermination (example 1)"
   ]
  },
  {
   "cell_type": "markdown",
   "id": "56ffad81",
   "metadata": {},
   "source": [
    "### Precision of the facts.\n",
    "\n",
    "For dealing with the indetermination of the facts we are going to use the **precision** attribute of the facts objects.\n",
    "\n",
    "As an example, we are going to implement the following indeterminate rules in the **QRBS** system:\n",
    "\n",
    "*When It rains a lot I almost always stay at home. When I stay at home I usually read*\n",
    "\n",
    "First, we are going to list the different facts of the system:\n",
    "\n",
    "* Fact(Rain): in this case we are going to modulated the **intensity** of the rain. When precision is 0 then there is no rain, and when precision is 1 then it rains a lot. If rains moderately we can fix the probability to 0.5 for example\n",
    "* Fact(Home): here we model the **probability** of stay at home. So for precision 0.0, we are not at home, and for precision 1.0 then we are at home surely. For example, a precision of 0.2 implies that there is a low probability of being at home.\n",
    "* Fact(Read): again we model here the **probability** of being reading. Precision 0 I am not reading and 1.0 I am definitely reading. So if precision is 0.8 there is a high probability of being reading.\n"
   ]
  },
  {
   "cell_type": "code",
   "execution_count": null,
   "id": "3ad2f621",
   "metadata": {},
   "outputs": [],
   "source": [
    "from neasqc_qrbs.qrbs import QRBS"
   ]
  },
  {
   "cell_type": "code",
   "execution_count": null,
   "id": "3684b540",
   "metadata": {},
   "outputs": [],
   "source": [
    "qrbs =  QRBS()"
   ]
  },
  {
   "cell_type": "code",
   "execution_count": null,
   "id": "5b7a83db",
   "metadata": {},
   "outputs": [],
   "source": [
    "#facts\n",
    "\n",
    "rain = qrbs.assert_fact(\"Rain\", \"Rain\")\n",
    "home = qrbs.assert_fact(\"Home\", \"Home\")\n",
    "read = qrbs.assert_fact(\"Read\", \"Read\")"
   ]
  },
  {
   "cell_type": "markdown",
   "id": "772ea519",
   "metadata": {},
   "source": [
    "### Certainty of the rules\n",
    "\n",
    "For dealing with the indetermination of the rules we are going to use the **certainty** attribute of the rule object.\n",
    "\n",
    "The rules of our system are:\n",
    "\n",
    "* Rule 1: *the rule is It rains a lot I almost always stay at home*. The rule has some uncertainty associated because is modulated by the *almost always* so we are going to set the certainty of the rule to 0.9 (because there is a little probability that It is raining a lot and I have to go out).\n",
    "    * Left-hand side: Rain\n",
    "    * Right-hand side: Home\n",
    "    * certainty: 0.9\n",
    "* Rule 2: *When I stay at home I usually read*. Again there is some certainty associated with the rule. In this case, we are going to fix it to 0.75.\n",
    "    * Left-hand side: Home\n",
    "    * Right-hand side: Read\n",
    "    * certainty: 0.75"
   ]
  },
  {
   "cell_type": "code",
   "execution_count": null,
   "id": "38012f94",
   "metadata": {},
   "outputs": [],
   "source": [
    "#rules\n",
    "rule1 = qrbs.assert_rule(rain, home)\n",
    "rule1.certainty = 0.9\n",
    "rule2 = qrbs.assert_rule(home, read)\n",
    "rule2.certainty = 0.75"
   ]
  },
  {
   "cell_type": "markdown",
   "id": "f0c0eedf",
   "metadata": {},
   "source": [
    "Now we need to chain the rules in a *knowledge island* because we want to know the probability of being reading!"
   ]
  },
  {
   "cell_type": "code",
   "execution_count": null,
   "id": "ed2b5019",
   "metadata": {},
   "outputs": [],
   "source": [
    "island = qrbs.assert_island([rule1, rule2])"
   ]
  },
  {
   "cell_type": "markdown",
   "id": "f4ec7692",
   "metadata": {},
   "source": [
    "We are going to suppouse that rains with a certain intensity: 0.8"
   ]
  },
  {
   "cell_type": "code",
   "execution_count": null,
   "id": "6b223c74",
   "metadata": {},
   "outputs": [],
   "source": [
    "rain.precision = 0.8"
   ]
  },
  {
   "cell_type": "markdown",
   "id": "102c0e50",
   "metadata": {},
   "source": [
    "Now we can use the different builders for getting a visualization of the quantum circuits in each of the indetermination propagation models:"
   ]
  },
  {
   "cell_type": "code",
   "execution_count": null,
   "id": "6ed5bdc0",
   "metadata": {},
   "outputs": [],
   "source": [
    "# The three Builders\n",
    "from neasqc_qrbs.knowledge_rep import  BuilderImpl, BuilderBayes, BuilderFuzzy"
   ]
  },
  {
   "cell_type": "code",
   "execution_count": null,
   "id": "ff67ffd7",
   "metadata": {
    "scrolled": true
   },
   "outputs": [],
   "source": [
    "# Certainty factors engine\n",
    "qc = island.build(BuilderImpl())\n",
    "%qatdisplay qc --sv"
   ]
  },
  {
   "cell_type": "code",
   "execution_count": null,
   "id": "29199208",
   "metadata": {},
   "outputs": [],
   "source": [
    "# Fuzzy Logic engine\n",
    "qc = island.build(BuilderFuzzy())\n",
    "%qatdisplay qc --sv"
   ]
  },
  {
   "cell_type": "code",
   "execution_count": null,
   "id": "98b4c94c",
   "metadata": {},
   "outputs": [],
   "source": [
    "# Bayesian Networks engine\n",
    "qc = island.build(BuilderBayes())\n",
    "%qatdisplay qc --sv"
   ]
  },
  {
   "cell_type": "markdown",
   "id": "e4dcb615",
   "metadata": {},
   "source": [
    "Now we can solve the system"
   ]
  },
  {
   "cell_type": "code",
   "execution_count": null,
   "id": "86dff7a5",
   "metadata": {},
   "outputs": [],
   "source": [
    "# myQLM qpus\n",
    "from qpu.select_qpu import select_qpu\n",
    "# List with the strings that should be provided for an ideal QPU\n",
    "ideal_qpus = [\"c\", \"python\", \"linalg\", \"mps\", \"qlmass_linalg\", \"qlmass_mps\"]\n",
    "qpu_config_c = {\n",
    "    \"qpu_type\": ideal_qpus[0], \n",
    "}\n",
    "qpu = select_qpu(qpu_config_c)\n"
   ]
  },
  {
   "cell_type": "code",
   "execution_count": null,
   "id": "34c3605b",
   "metadata": {},
   "outputs": [],
   "source": [
    "from selectable_qpu import SelectableQPU\n",
    "MyQlmQPU = SelectableQPU()"
   ]
  },
  {
   "cell_type": "markdown",
   "id": "d8e17f96",
   "metadata": {},
   "source": [
    "### model certainty facts"
   ]
  },
  {
   "cell_type": "code",
   "execution_count": null,
   "id": "4e9d5673",
   "metadata": {},
   "outputs": [],
   "source": [
    "# Certainty factors\n",
    "rain.precision = 1.0\n",
    "home.precision = 0.0\n",
    "read.precision = 0.0\n",
    "print(\"Precision of rain fact before execution is: \", rain.precision)\n",
    "print(\"Precision of home fact before execution is: \", home.precision)\n",
    "print(\"Precision of read fact before execution  is: \", read.precision)\n",
    "MyQlmQPU.execute(qrbs, qpu=qpu, model='cf', shots=512)\n",
    "print(\"Precision of rain fact after execution is: \", rain.precision)\n",
    "print(\"Precision of home fact after execution is: \", home.precision)\n",
    "print(\"Precision of read fact after execution  is: \", read.precision)"
   ]
  },
  {
   "cell_type": "markdown",
   "id": "f7dd9681",
   "metadata": {},
   "source": [
    "**BE AWARE** The number of shots will vary the output results!!"
   ]
  },
  {
   "cell_type": "code",
   "execution_count": null,
   "id": "ee333174",
   "metadata": {},
   "outputs": [],
   "source": [
    "# Certainty factors\n",
    "rain.precision = 1.0\n",
    "home.precision = 0.0\n",
    "read.precision = 0.0\n",
    "print(\"Precision of rain fact before execution is: \", rain.precision)\n",
    "print(\"Precision of home fact before execution is: \", home.precision)\n",
    "print(\"Precision of read fact before execution  is: \", read.precision)\n",
    "MyQlmQPU.execute(qrbs, qpu=qpu, model='cf', shots=1024)\n",
    "print(\"Precision of rain fact after execution is: \", rain.precision)\n",
    "print(\"Precision of home fact after execution is: \", home.precision)\n",
    "print(\"Precision of read fact after execution  is: \", read.precision)"
   ]
  },
  {
   "cell_type": "markdown",
   "id": "76b1ddae",
   "metadata": {},
   "source": [
    "#### model of fuzzy logic"
   ]
  },
  {
   "cell_type": "code",
   "execution_count": null,
   "id": "de6519d9",
   "metadata": {},
   "outputs": [],
   "source": [
    "rain.precision = 1.0\n",
    "home.precision = 0.0\n",
    "read.precision = 0.0\n",
    "print(\"Precision of rain fact before execution is: \", rain.precision)\n",
    "print(\"Precision of home fact before execution is: \", home.precision)\n",
    "print(\"Precision of read fact before execution  is: \", read.precision)\n",
    "MyQlmQPU.execute(qrbs, qpu=qpu, model='fuzzy', shots=1024)\n",
    "print(\"Precision of rain fact after execution is: \", rain.precision)\n",
    "print(\"Precision of home fact after execution is: \", home.precision)\n",
    "print(\"Precision of read fact after execution  is: \", read.precision)"
   ]
  },
  {
   "cell_type": "markdown",
   "id": "28a801f9",
   "metadata": {},
   "source": [
    "#### bayesian networks"
   ]
  },
  {
   "cell_type": "code",
   "execution_count": null,
   "id": "aabc0ee8",
   "metadata": {
    "scrolled": true
   },
   "outputs": [],
   "source": [
    "# bayesian networks\n",
    "rain.precision = 1.0\n",
    "home.precision = 0.0\n",
    "read.precision = 0.0\n",
    "print(\"Precision of rain fact before execution is: \", rain.precision)\n",
    "print(\"Precision of home fact before execution is: \", home.precision)\n",
    "print(\"Precision of read fact before execution  is: \", read.precision)\n",
    "MyQlmQPU.execute(qrbs, qpu=qpu, model='bayes', shots=1024)\n",
    "print(\"Precision of rain fact after execution is: \", rain.precision)\n",
    "print(\"Precision of home fact after execution is: \", home.precision)\n",
    "print(\"Precision of read fact after execution  is: \", read.precision)"
   ]
  },
  {
   "cell_type": "markdown",
   "id": "2a09f9c4",
   "metadata": {},
   "source": [
    "**We can get the probability of being reading if it rains enough precision=0.75**"
   ]
  },
  {
   "cell_type": "code",
   "execution_count": null,
   "id": "fd2ddb3d",
   "metadata": {},
   "outputs": [],
   "source": [
    "# Certainty factors\n",
    "rain.precision = 0.75\n",
    "home.precision = 0.0\n",
    "read.precision = 0.0\n",
    "print(\"Precision of rain fact before execution is: \", rain.precision)\n",
    "print(\"Precision of home fact before execution is: \", home.precision)\n",
    "print(\"Precision of read fact before execution  is: \", read.precision)\n",
    "MyQlmQPU.execute(qrbs, qpu=qpu, model='cf', shots=512)\n",
    "print(\"Precision of rain fact after execution is: \", rain.precision)\n",
    "print(\"Precision of home fact after execution is: \", home.precision)\n",
    "print(\"Precision of read fact after execution  is: \", read.precision)"
   ]
  },
  {
   "cell_type": "markdown",
   "id": "187399e7",
   "metadata": {},
   "source": [
    "**We can get the probability of being reading if it rains a little precision=0.2**"
   ]
  },
  {
   "cell_type": "code",
   "execution_count": null,
   "id": "6ceeaa57",
   "metadata": {},
   "outputs": [],
   "source": [
    "# Certainty factors\n",
    "rain.precision = 0.2\n",
    "home.precision = 0.0\n",
    "read.precision = 0.0\n",
    "print(\"Precision of rain fact before execution is: \", rain.precision)\n",
    "print(\"Precision of home fact before execution is: \", home.precision)\n",
    "print(\"Precision of read fact before execution  is: \", read.precision)\n",
    "MyQlmQPU.execute(qrbs, qpu=qpu, model='cf', shots=1024)\n",
    "print(\"Precision of rain fact after execution is: \", rain.precision)\n",
    "print(\"Precision of home fact after execution is: \", home.precision)\n",
    "print(\"Precision of read fact after execution  is: \", read.precision)"
   ]
  },
  {
   "cell_type": "markdown",
   "id": "ff17fdd6",
   "metadata": {},
   "source": [
    "## 2. Managing several islands (example 2)"
   ]
  },
  {
   "cell_type": "markdown",
   "id": "3b1f2771",
   "metadata": {},
   "source": [
    "A **RBS** can have several outputs instead of only one output. In this case the number of **knowledge islands** of our **QRBS** must be equal to the number of outputs of the system. So for each output an *island* must be created. \n",
    "\n",
    "As an example, we are going to implement the following situation:\n",
    "\n",
    "*A family (father, mother, and daughter) is deciding what to do this weekend, and each one is suggesting a plan:*\n",
    "1. Going to the grandparents' house: The father proposes this plan, which is a good option if it rains or if it's been a long time since they last visited.\n",
    "2. Going to the cinema: The mother suggests this plan, which is also suitable for rainy days and if it has been a while since their last outing.\n",
    "3. Going to the park: The daughter proposes this plan, which she knows can be done if it's not raining or if it's her birthday, and especially if they don't put something on TV that she likes, such as Paw Patrol or Bluey.\n",
    "\n",
    "We are going to use the **QRBS** for modelling the situation:\n",
    "\n",
    "**Facts**: We have the following input facts:\n",
    "* Fact(Rain): binary fact: precision 0 for not raining.\n",
    "* Fact(last_visited): model the time of the last visit to the grandfathers if precision is 0 then the last visit was recently and if is 1 then a lot of time has passed from the last visit.\n",
    "* Fact(birthday): The birthday of the daughter only can be 0 (not birthday) or 1 (birthday)\n",
    "* Fact(tv): if there is something that the daughter loves on tv (precision 1) or there is nothing (precision 0).\n",
    "\n",
    "As output facts, we have three possible plans:\n",
    "* Fact(grandfathers): visit grandfathers. \n",
    "* cinema: go to cinema. \n",
    "* park: go to park.\n",
    "\n",
    "All of them will have a precision that models the suitability of the plan: 0 for not viability to 1 for very high viability. We are going to need 3 different *knowledge islands* for modelling them into the **QRBS** (one for each output fact)."
   ]
  },
  {
   "cell_type": "code",
   "execution_count": null,
   "id": "3f92411a",
   "metadata": {},
   "outputs": [],
   "source": [
    "from neasqc_qrbs.knowledge_rep import AndOperator, OrOperator, NotOperator"
   ]
  },
  {
   "cell_type": "code",
   "execution_count": null,
   "id": "d606ff29",
   "metadata": {},
   "outputs": [],
   "source": [
    "family =  QRBS()"
   ]
  },
  {
   "cell_type": "code",
   "execution_count": null,
   "id": "64977229",
   "metadata": {},
   "outputs": [],
   "source": [
    "# inputs\n",
    "rain = family.assert_fact(\"Rain\", \"Rain\")\n",
    "last_visit = family.assert_fact(\"last_visit\", \"last_visit\")\n",
    "birthday = family.assert_fact(\"birthday\", \"birthday\")\n",
    "tv = family.assert_fact(\"tv\", \"tv\")"
   ]
  },
  {
   "cell_type": "code",
   "execution_count": null,
   "id": "3d939b1e",
   "metadata": {},
   "outputs": [],
   "source": [
    "#outputs\n",
    "grandfathers = family.assert_fact(\"grandfathers\", \"grandfathers\")\n",
    "cinema = family.assert_fact(\"cinema\", \"cinema\")\n",
    "park = family.assert_fact(\"park\", \"park\")"
   ]
  },
  {
   "cell_type": "markdown",
   "id": "7c93c41b",
   "metadata": {},
   "source": [
    "Now we need to create the rules of the **QRBS**:\n",
    "\n",
    "* Father Rule: Rule((fact(rain) or fact(last_visit), grandfathers). The certainty will be set to 1.0\n",
    "* Mather Rule: Rule(fact(rain) and not(fact(last_visit)), cinema). The certainty will be set to 1.0\n",
    "* Daughter Rule: Rule(and( (not rain or birthday)) and not tv,  park).  The certainty will be set to 1.0"
   ]
  },
  {
   "cell_type": "code",
   "execution_count": null,
   "id": "6e58aa4d",
   "metadata": {},
   "outputs": [],
   "source": [
    "rule1 = family.assert_rule(OrOperator(rain, last_visit), grandfathers)\n",
    "rule1.certainty = 1.0\n",
    "rule2 = family.assert_rule(AndOperator(rain, NotOperator(last_visit)), cinema)\n",
    "rule2.certainty = 1.0\n",
    "\n",
    "rule3 = family.assert_rule(\n",
    "    AndOperator(\n",
    "        OrOperator(NotOperator(rain), birthday),\n",
    "        NotOperator(tv)\n",
    "    ),\n",
    "    park\n",
    ")\n",
    "rule3.certainty = 1.0\n"
   ]
  },
  {
   "cell_type": "markdown",
   "id": "41e52798",
   "metadata": {},
   "source": [
    "In this case we want a viability puntuation for each of the three posible plans: *grandfathers, cinema or parks* so for each desired output we need to create a *knowledge island*:"
   ]
  },
  {
   "cell_type": "code",
   "execution_count": null,
   "id": "37c19c94",
   "metadata": {},
   "outputs": [],
   "source": [
    "father_plan = family.assert_island([rule1])\n",
    "mother_plan = family.assert_island([rule2])\n",
    "daughter_plan = family.assert_island([rule3])"
   ]
  },
  {
   "cell_type": "code",
   "execution_count": null,
   "id": "cf04e65b",
   "metadata": {},
   "outputs": [],
   "source": [
    "rain.precision = .8\n",
    "last_visit.precision = 0.7\n",
    "birthday.precision = 0.0 \n",
    "tv.precision = 0.0"
   ]
  },
  {
   "cell_type": "code",
   "execution_count": null,
   "id": "a9075e0b",
   "metadata": {},
   "outputs": [],
   "source": [
    "MyQlmQPU.execute(family, qpu=qpu)"
   ]
  },
  {
   "cell_type": "code",
   "execution_count": null,
   "id": "8471b925",
   "metadata": {},
   "outputs": [],
   "source": [
    "print(\"grandfathers viability: \", grandfathers.precision)\n",
    "print(\"cinema viability: \", cinema.precision)\n",
    "print(\"park viability: \", park.precision)"
   ]
  }
 ],
 "metadata": {
  "kernelspec": {
   "display_name": "Python 3 (ipykernel)",
   "language": "python",
   "name": "python3"
  },
  "language_info": {
   "codemirror_mode": {
    "name": "ipython",
    "version": 3
   },
   "file_extension": ".py",
   "mimetype": "text/x-python",
   "name": "python",
   "nbconvert_exporter": "python",
   "pygments_lexer": "ipython3",
   "version": "3.9.16"
  }
 },
 "nbformat": 4,
 "nbformat_minor": 5
}
